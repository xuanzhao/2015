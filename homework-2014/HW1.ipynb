{
 "cells": [
  {
   "cell_type": "markdown",
   "metadata": {},
   "source": [
    "# Homework 1. Exploratory Data Analysis"
   ]
  },
  {
   "cell_type": "markdown",
   "metadata": {},
   "source": [
    "## Introduction\n",
    "在这次作业中，我们会问你三个问题，希望你用数据来回答它们。对每个问题，我们会要求你完成一系列的任务，这些任务会引导你完成整个数据分析。最后，完成这些任务，并对每个问题写出一个简短的回答（大约100字左右）。\n",
    "\n",
    "#### 数据：\n",
    "这次作业，我们会使用两个数据集：\n",
    "1. The [Sean Lahman's Baseball Database](http://seanlahman.com/baseball-archive/statistics)，这个数据集包含全部从1871年到2013年的击球和投球的统计数据，加上fielding统计数据，排名，团队统计，管理记录，季后数据等。有关最新版本的更多详细信息，请[参阅文档](http://seanlahman.com/files/database/readme2012.txt).\"\n",
    "\n",
    "2. [Gapminder](http://www.gapminder.org) 是一个包含与世界指标相关的[500多个数据集](http://www.gapminder.org/data/)，比如收入、GDP和预期寿命。\n",
    "\n",
    "\n",
    "#### 目的：\n",
    "在这次作业中，你将会学到如何：\n",
    "1. 从web加载CSV文件。\n",
    "2. 在python中写出函数。\n",
    "3. 创建用于探索性数据分析的图形和摘要统计信息，如直方图、框图、散点图。\n",
    "\n",
    "\n",
    "#### 一些对这次作业有帮助的库：\n",
    "* [numpy](http://docs.scipy.org/doc/numpy-dev/user/index.html), for arrays\n",
    "* [pandas](http://pandas.pydata.org/), for data frames\n",
    "* [matplotlib](http://matplotlib.org/), for plotting"
   ]
  },
  {
   "cell_type": "code",
   "execution_count": 46,
   "metadata": {
    "collapsed": true
   },
   "outputs": [],
   "source": [
    "# special IPython command to prepare the notebook for matplotlib\n",
    "%matplotlib inline \n",
    "\n",
    "import numpy as np\n",
    "import pandas as pd\n",
    "import matplotlib.pyplot as plt"
   ]
  },
  {
   "cell_type": "markdown",
   "metadata": {},
   "source": [
    "## 问题1\n",
    "在讲座1中，我们展示了一个图，图中展示了2002和2003年，使用数据科学的奥克兰A队更具有竞争优势的证据。由于其他团队也开始使用数据科学，所以用团队是否使用探索性数据分析来确定团队是否具有竞争优势已经不可能了。\n",
    "\n",
    "#### 问题1（a）\n",
    "加载[这个CSV压缩文件](http://seanlahman.com/files/database/lahman-csv_2014-02-14.zip) from the [Sean Lahman's Baseball Database](http://seanlahman.com/baseball-archive/statistics). 在这次作业中，我们将使用'Salaries.csv'和'Teams.csv' 表. 将这些表加载到一个pandas `DataFrame`，然后展现出表的头信息。 \n",
    "\n",
    "**Hint** Use the [requests](http://docs.python-requests.org/en/latest/), [StringIO](http://docs.python.org/2/library/stringio.html) and [zipfile](https://docs.python.org/2/library/zipfile.html) modules to get from the web.  "
   ]
  },
  {
   "cell_type": "code",
   "execution_count": 9,
   "metadata": {
    "collapsed": false
   },
   "outputs": [],
   "source": [
    "# your code here\n",
    "from io import BytesIO\n",
    "import zipfile, requests\n",
    "\n",
    "def getZIP(zip_file_url):\n",
    "    r = requests.get(zip_file_url).content\n",
    "    s = BytesIO(r)\n",
    "    zf = zipfile.ZipFile(s, 'r')  # read in a list of zipped files\n",
    "    return zf"
   ]
  },
  {
   "cell_type": "code",
   "execution_count": 10,
   "metadata": {
    "collapsed": false
   },
   "outputs": [
    {
     "name": "stdout",
     "output_type": "stream",
     "text": [
      "['SchoolsPlayers.csv', 'SeriesPost.csv', 'Teams.csv', 'TeamsFranchises.csv', 'TeamsHalf.csv', 'AllstarFull.csv', 'Appearances.csv', 'AwardsManagers.csv', 'AwardsPlayers.csv', 'AwardsShareManagers.csv', 'AwardsSharePlayers.csv', 'Batting.csv', 'BattingPost.csv', 'Fielding.csv', 'FieldingOF.csv', 'FieldingPost.csv', 'HallOfFame.csv', 'Managers.csv', 'ManagersHalf.csv', 'Master.csv', 'Pitching.csv', 'PitchingPost.csv', 'readme2013.txt', 'Salaries.csv', 'Schools.csv']\n"
     ]
    }
   ],
   "source": [
    "url = 'http://seanlahman.com/files/database/lahman-csv_2014-02-14.zip'\n",
    "zf = getZIP(url)\n",
    "print(zf.namelist())"
   ]
  },
  {
   "cell_type": "code",
   "execution_count": 11,
   "metadata": {
    "collapsed": false
   },
   "outputs": [
    {
     "data": {
      "text/plain": [
       "'Salaries.csv'"
      ]
     },
     "execution_count": 11,
     "metadata": {},
     "output_type": "execute_result"
    }
   ],
   "source": [
    "tablenames = zf.namelist()\n",
    "tablenames[tablenames.index('Salaries.csv')]"
   ]
  },
  {
   "cell_type": "code",
   "execution_count": 24,
   "metadata": {
    "collapsed": false
   },
   "outputs": [
    {
     "name": "stdout",
     "output_type": "stream",
     "text": [
      "Number of rows: 23956\n"
     ]
    },
    {
     "data": {
      "text/html": [
       "<div>\n",
       "<table border=\"1\" class=\"dataframe\">\n",
       "  <thead>\n",
       "    <tr style=\"text-align: right;\">\n",
       "      <th></th>\n",
       "      <th>yearID</th>\n",
       "      <th>teamID</th>\n",
       "      <th>lgID</th>\n",
       "      <th>playerID</th>\n",
       "      <th>salary</th>\n",
       "    </tr>\n",
       "  </thead>\n",
       "  <tbody>\n",
       "    <tr>\n",
       "      <th>0</th>\n",
       "      <td>1985</td>\n",
       "      <td>BAL</td>\n",
       "      <td>AL</td>\n",
       "      <td>murraed02</td>\n",
       "      <td>1472819</td>\n",
       "    </tr>\n",
       "    <tr>\n",
       "      <th>1</th>\n",
       "      <td>1985</td>\n",
       "      <td>BAL</td>\n",
       "      <td>AL</td>\n",
       "      <td>lynnfr01</td>\n",
       "      <td>1090000</td>\n",
       "    </tr>\n",
       "    <tr>\n",
       "      <th>2</th>\n",
       "      <td>1985</td>\n",
       "      <td>BAL</td>\n",
       "      <td>AL</td>\n",
       "      <td>ripkeca01</td>\n",
       "      <td>800000</td>\n",
       "    </tr>\n",
       "    <tr>\n",
       "      <th>3</th>\n",
       "      <td>1985</td>\n",
       "      <td>BAL</td>\n",
       "      <td>AL</td>\n",
       "      <td>lacyle01</td>\n",
       "      <td>725000</td>\n",
       "    </tr>\n",
       "    <tr>\n",
       "      <th>4</th>\n",
       "      <td>1985</td>\n",
       "      <td>BAL</td>\n",
       "      <td>AL</td>\n",
       "      <td>flanami01</td>\n",
       "      <td>641667</td>\n",
       "    </tr>\n",
       "  </tbody>\n",
       "</table>\n",
       "</div>"
      ],
      "text/plain": [
       "   yearID teamID lgID   playerID   salary\n",
       "0    1985    BAL   AL  murraed02  1472819\n",
       "1    1985    BAL   AL   lynnfr01  1090000\n",
       "2    1985    BAL   AL  ripkeca01   800000\n",
       "3    1985    BAL   AL   lacyle01   725000\n",
       "4    1985    BAL   AL  flanami01   641667"
      ]
     },
     "execution_count": 24,
     "metadata": {},
     "output_type": "execute_result"
    }
   ],
   "source": [
    "salaries = pd.read_csv(zf.open(tablenames[tablenames.index('Salaries.csv')]))\n",
    "print('Number of rows: {nr:d}'.format(nr=salaries.shape[0]))\n",
    "salaries.head()"
   ]
  },
  {
   "cell_type": "code",
   "execution_count": 29,
   "metadata": {
    "collapsed": false
   },
   "outputs": [
    {
     "name": "stdout",
     "output_type": "stream",
     "text": [
      "Number of rows: 2745\n"
     ]
    },
    {
     "data": {
      "text/html": [
       "<div>\n",
       "<table border=\"1\" class=\"dataframe\">\n",
       "  <thead>\n",
       "    <tr style=\"text-align: right;\">\n",
       "      <th></th>\n",
       "      <th>yearID</th>\n",
       "      <th>teamID</th>\n",
       "      <th>W</th>\n",
       "    </tr>\n",
       "  </thead>\n",
       "  <tbody>\n",
       "    <tr>\n",
       "      <th>0</th>\n",
       "      <td>1871</td>\n",
       "      <td>PH1</td>\n",
       "      <td>21</td>\n",
       "    </tr>\n",
       "    <tr>\n",
       "      <th>1</th>\n",
       "      <td>1871</td>\n",
       "      <td>CH1</td>\n",
       "      <td>19</td>\n",
       "    </tr>\n",
       "    <tr>\n",
       "      <th>2</th>\n",
       "      <td>1871</td>\n",
       "      <td>BS1</td>\n",
       "      <td>20</td>\n",
       "    </tr>\n",
       "    <tr>\n",
       "      <th>3</th>\n",
       "      <td>1871</td>\n",
       "      <td>WS3</td>\n",
       "      <td>15</td>\n",
       "    </tr>\n",
       "    <tr>\n",
       "      <th>4</th>\n",
       "      <td>1871</td>\n",
       "      <td>NY2</td>\n",
       "      <td>16</td>\n",
       "    </tr>\n",
       "  </tbody>\n",
       "</table>\n",
       "</div>"
      ],
      "text/plain": [
       "   yearID teamID   W\n",
       "0    1871    PH1  21\n",
       "1    1871    CH1  19\n",
       "2    1871    BS1  20\n",
       "3    1871    WS3  15\n",
       "4    1871    NY2  16"
      ]
     },
     "execution_count": 29,
     "metadata": {},
     "output_type": "execute_result"
    }
   ],
   "source": [
    "teams = pd.read_csv(zf.open(tablenames[tablenames.index('Teams.csv')]))\n",
    "teams = teams[['yearID', 'teamID', 'W']]\n",
    "print('Number of rows: {:d}'.format(teams.shape[0]))\n",
    "teams.head()"
   ]
  },
  {
   "cell_type": "markdown",
   "metadata": {},
   "source": [
    "#### 问题1（b）\n",
    "总结薪资DataFrame，以显示每个团队每年的总工资。显示新汇总的DataFrame的头信息。"
   ]
  },
  {
   "cell_type": "code",
   "execution_count": 35,
   "metadata": {
    "collapsed": false
   },
   "outputs": [
    {
     "data": {
      "text/html": [
       "<div>\n",
       "<table border=\"1\" class=\"dataframe\">\n",
       "  <thead>\n",
       "    <tr style=\"text-align: right;\">\n",
       "      <th></th>\n",
       "      <th>yearID</th>\n",
       "      <th>teamID</th>\n",
       "      <th>salary</th>\n",
       "    </tr>\n",
       "  </thead>\n",
       "  <tbody>\n",
       "    <tr>\n",
       "      <th>0</th>\n",
       "      <td>1985</td>\n",
       "      <td>ATL</td>\n",
       "      <td>14807000</td>\n",
       "    </tr>\n",
       "    <tr>\n",
       "      <th>1</th>\n",
       "      <td>1985</td>\n",
       "      <td>BAL</td>\n",
       "      <td>11560712</td>\n",
       "    </tr>\n",
       "    <tr>\n",
       "      <th>2</th>\n",
       "      <td>1985</td>\n",
       "      <td>BOS</td>\n",
       "      <td>10897560</td>\n",
       "    </tr>\n",
       "    <tr>\n",
       "      <th>3</th>\n",
       "      <td>1985</td>\n",
       "      <td>CAL</td>\n",
       "      <td>14427894</td>\n",
       "    </tr>\n",
       "    <tr>\n",
       "      <th>4</th>\n",
       "      <td>1985</td>\n",
       "      <td>CHA</td>\n",
       "      <td>9846178</td>\n",
       "    </tr>\n",
       "  </tbody>\n",
       "</table>\n",
       "</div>"
      ],
      "text/plain": [
       "   yearID teamID    salary\n",
       "0    1985    ATL  14807000\n",
       "1    1985    BAL  11560712\n",
       "2    1985    BOS  10897560\n",
       "3    1985    CAL  14427894\n",
       "4    1985    CHA   9846178"
      ]
     },
     "execution_count": 35,
     "metadata": {},
     "output_type": "execute_result"
    }
   ],
   "source": [
    "# your code here\n",
    "totSalaries = salaries.groupby(['yearID', 'teamID'], as_index=0)['salary'].sum()\n",
    "totSalaries.head()"
   ]
  },
  {
   "cell_type": "markdown",
   "metadata": {},
   "source": [
    "#### 问题1（c）\n",
    "将新总结的薪资DataFrame和团队DataFrame合并在一起，以创建一个新的DataFrame，可以显示每个团队每年的获胜次数和每个团队每年的总薪水。显示新合并的DataFrame的表头。\n",
    "**提示**：合并DataFrame时使用`teamID`和``yearID`。"
   ]
  },
  {
   "cell_type": "code",
   "execution_count": 36,
   "metadata": {
    "collapsed": false
   },
   "outputs": [
    {
     "data": {
      "text/html": [
       "<div>\n",
       "<table border=\"1\" class=\"dataframe\">\n",
       "  <thead>\n",
       "    <tr style=\"text-align: right;\">\n",
       "      <th></th>\n",
       "      <th>yearID</th>\n",
       "      <th>teamID</th>\n",
       "      <th>salary</th>\n",
       "      <th>W</th>\n",
       "    </tr>\n",
       "  </thead>\n",
       "  <tbody>\n",
       "    <tr>\n",
       "      <th>0</th>\n",
       "      <td>1985</td>\n",
       "      <td>ATL</td>\n",
       "      <td>14807000</td>\n",
       "      <td>66</td>\n",
       "    </tr>\n",
       "    <tr>\n",
       "      <th>1</th>\n",
       "      <td>1985</td>\n",
       "      <td>BAL</td>\n",
       "      <td>11560712</td>\n",
       "      <td>83</td>\n",
       "    </tr>\n",
       "    <tr>\n",
       "      <th>2</th>\n",
       "      <td>1985</td>\n",
       "      <td>BOS</td>\n",
       "      <td>10897560</td>\n",
       "      <td>81</td>\n",
       "    </tr>\n",
       "    <tr>\n",
       "      <th>3</th>\n",
       "      <td>1985</td>\n",
       "      <td>CAL</td>\n",
       "      <td>14427894</td>\n",
       "      <td>90</td>\n",
       "    </tr>\n",
       "    <tr>\n",
       "      <th>4</th>\n",
       "      <td>1985</td>\n",
       "      <td>CHA</td>\n",
       "      <td>9846178</td>\n",
       "      <td>85</td>\n",
       "    </tr>\n",
       "  </tbody>\n",
       "</table>\n",
       "</div>"
      ],
      "text/plain": [
       "   yearID teamID    salary   W\n",
       "0    1985    ATL  14807000  66\n",
       "1    1985    BAL  11560712  83\n",
       "2    1985    BOS  10897560  81\n",
       "3    1985    CAL  14427894  90\n",
       "4    1985    CHA   9846178  85"
      ]
     },
     "execution_count": 36,
     "metadata": {},
     "output_type": "execute_result"
    }
   ],
   "source": [
    "# your code here\n",
    "joined = pd.merge(totSalaries, teams, on=['yearID', 'teamID'])\n",
    "joined.head()"
   ]
  },
  {
   "cell_type": "markdown",
   "metadata": {},
   "source": [
    "#### 问题1（d）\n",
    "你如何以图形方式展示给定年份的总获胜次数和总薪水之间的关系？什么样的图形式最好的？选择一种图形来展示这种关系，并在图像上注释出奥克兰棒球队。在哪些年份，你可以从奥克兰棒球队使用数据科学中发现竞争优势，这个情况是什么时候结束的？"
   ]
  },
  {
   "cell_type": "code",
   "execution_count": 92,
   "metadata": {
    "collapsed": false
   },
   "outputs": [
    {
     "data": {
      "text/plain": [
       "17    9058606\n",
       "Name: salary, dtype: int64"
      ]
     },
     "execution_count": 92,
     "metadata": {},
     "output_type": "execute_result"
    }
   ],
   "source": [
    "df[df['teamID'] == teamName]['salary']"
   ]
  },
  {
   "cell_type": "code",
   "execution_count": 109,
   "metadata": {
    "collapsed": false
   },
   "outputs": [
    {
     "data": {
      "image/png": "[encoded data removed]",
      "text/plain": [
       "<matplotlib.figure.Figure at 0xad14080>"
      ]
     },
     "metadata": {},
     "output_type": "display_data"
    },
    {
     "data": {
      "image/png": "[encoded data removed]",
      "text/plain": [
       "<matplotlib.figure.Figure at 0xabb81d0>"
      ]
     },
     "metadata": {},
     "output_type": "display_data"
    },
    {
     "data": {
      "image/png": "[encoded data removed]",
      "text/plain": [
       "<matplotlib.figure.Figure at 0xacf67b8>"
      ]
     },
     "metadata": {},
     "output_type": "display_data"
    },
    {
     "data": {
      "image/png": "[encoded data removed]",
      "text/plain": [
       "<matplotlib.figure.Figure at 0xad14160>"
      ]
     },
     "metadata": {},
     "output_type": "display_data"
    },
    {
     "data": {
      "image/png": "[encoded data removed]",
      "text/plain": [
       "<matplotlib.figure.Figure at 0xad4e240>"
      ]
     },
     "metadata": {},
     "output_type": "display_data"
    }
   ],
   "source": [
    "# your code here\n",
    "teamName = 'OAK'\n",
    "years = np.arange(2000,2005)\n",
    "for yr in years:\n",
    "    df = joined[joined.yearID == yr]\n",
    "    plt.scatter(df['salary'] / 1e6, df['W'])\n",
    "    plt.title('Wins versus Salaries in year ' + str(yr))\n",
    "    plt.xlabel('Total Salary (in millions)')\n",
    "    plt.ylabel('Wins')\n",
    "    plt.xlim(0, 180)\n",
    "    plt.ylim(30, 130)\n",
    "    plt.grid()\n",
    "#     plt.text(df[df.teamID == teamName]['salary'] / 1e6, df[df.teamID == teamName]['W'],  df[df.teamID == teamName]['salary'].values)\n",
    "    plt.annotate(teamName,\n",
    "                xy = (df[df['teamID'] == teamName]['salary']/ 1e6, df[df['teamID'] == teamName]['W']),\n",
    "                xytext = (-20, 20), textcoords='offset points', ha='right', va='bottom',\n",
    "                bbox = dict(boxstyle='round, pad=0.5', fc='yellow', alpha=0.5),\n",
    "                arrowprops = dict(arrowstyle= '->', facecolor='black', connectionstyle='arc3, rad=0'))\n",
    "    plt.show()"
   ]
  },
  {
   "cell_type": "markdown",
   "metadata": {},
   "source": [
    "可以看到在2001-2003年，奥克兰队获得了竞争优势，即薪水相对其他队伍花费更少的情况下，但保持高的获胜次数。"
   ]
  },
  {
   "cell_type": "markdown",
   "metadata": {},
   "source": [
    "#### 问题1（e）:\n",
    "对每一年的数据进行线性回归拟合，获得其残差。根据时间绘制残差以检测在1（d）中支持你的答案的模式。"
   ]
  },
  {
   "cell_type": "markdown",
   "metadata": {},
   "source": [
    "令x为薪水，y为胜场次数，有$e_i = y_i - \\hat{y}_i$"
   ]
  },
  {
   "cell_type": "code",
   "execution_count": 190,
   "metadata": {
    "collapsed": true
   },
   "outputs": [],
   "source": [
    "# your code here\n",
    "teamName = 'OAK'\n",
    "years = np.arange(1999, 2005)\n",
    "residData = pd.DataFrame()\n",
    "\n",
    "for yr in years:\n",
    "    df = joined[joined['yearID'] == yr]\n",
    "    x_list = df['salary'].values / 1e6\n",
    "    y_list = df['W'].values\n",
    "    \n",
    "    # least square estimates\n",
    "    A = np.array([x_list, np.ones(len(x_list))])  # (2, 30)\n",
    "    y = y_list\n",
    "    w = np.linalg.lstsq(A.T, y)[0]  # weights (2,)\n",
    "    yhat = (x_list*w[0] + w[1])  # regression line\n",
    "    residData[yr] = y - yhat"
   ]
  },
  {
   "cell_type": "code",
   "execution_count": 191,
   "metadata": {
    "collapsed": false
   },
   "outputs": [
    {
     "data": {
      "text/html": [
       "<div>\n",
       "<table border=\"1\" class=\"dataframe\">\n",
       "  <thead>\n",
       "    <tr style=\"text-align: right;\">\n",
       "      <th></th>\n",
       "      <th>1999</th>\n",
       "      <th>2000</th>\n",
       "      <th>2001</th>\n",
       "      <th>2002</th>\n",
       "      <th>2003</th>\n",
       "      <th>2004</th>\n",
       "    </tr>\n",
       "  </thead>\n",
       "  <tbody>\n",
       "    <tr>\n",
       "      <th>0</th>\n",
       "      <td>-12.815648</td>\n",
       "      <td>1.695563</td>\n",
       "      <td>-2.925391</td>\n",
       "      <td>19.685976</td>\n",
       "      <td>-5.582871</td>\n",
       "      <td>4.030574</td>\n",
       "    </tr>\n",
       "    <tr>\n",
       "      <th>1</th>\n",
       "      <td>12.613389</td>\n",
       "      <td>0.131503</td>\n",
       "      <td>7.736789</td>\n",
       "      <td>7.822092</td>\n",
       "      <td>1.092407</td>\n",
       "      <td>-30.102703</td>\n",
       "    </tr>\n",
       "    <tr>\n",
       "      <th>2</th>\n",
       "      <td>14.090630</td>\n",
       "      <td>9.589626</td>\n",
       "      <td>2.580021</td>\n",
       "      <td>13.452166</td>\n",
       "      <td>12.980497</td>\n",
       "      <td>10.342002</td>\n",
       "    </tr>\n",
       "    <tr>\n",
       "      <th>3</th>\n",
       "      <td>-13.472197</td>\n",
       "      <td>-10.933275</td>\n",
       "      <td>-18.312122</td>\n",
       "      <td>-11.989368</td>\n",
       "      <td>-10.553130</td>\n",
       "      <td>0.951479</td>\n",
       "    </tr>\n",
       "    <tr>\n",
       "      <th>4</th>\n",
       "      <td>8.400638</td>\n",
       "      <td>0.608153</td>\n",
       "      <td>-6.475081</td>\n",
       "      <td>1.356053</td>\n",
       "      <td>8.238596</td>\n",
       "      <td>4.054755</td>\n",
       "    </tr>\n",
       "  </tbody>\n",
       "</table>\n",
       "</div>"
      ],
      "text/plain": [
       "        1999       2000       2001       2002       2003       2004\n",
       "0 -12.815648   1.695563  -2.925391  19.685976  -5.582871   4.030574\n",
       "1  12.613389   0.131503   7.736789   7.822092   1.092407 -30.102703\n",
       "2  14.090630   9.589626   2.580021  13.452166  12.980497  10.342002\n",
       "3 -13.472197 -10.933275 -18.312122 -11.989368 -10.553130   0.951479\n",
       "4   8.400638   0.608153  -6.475081   1.356053   8.238596   4.054755"
      ]
     },
     "execution_count": 191,
     "metadata": {},
     "output_type": "execute_result"
    }
   ],
   "source": [
    "residData.head()"
   ]
  },
  {
   "cell_type": "code",
   "execution_count": 192,
   "metadata": {
    "collapsed": false
   },
   "outputs": [
    {
     "data": {
      "text/html": [
       "<div>\n",
       "<table border=\"1\" class=\"dataframe\">\n",
       "  <thead>\n",
       "    <tr style=\"text-align: right;\">\n",
       "      <th></th>\n",
       "      <th>1999</th>\n",
       "      <th>2000</th>\n",
       "      <th>2001</th>\n",
       "      <th>2002</th>\n",
       "      <th>2003</th>\n",
       "      <th>2004</th>\n",
       "    </tr>\n",
       "    <tr>\n",
       "      <th>teamID</th>\n",
       "      <th></th>\n",
       "      <th></th>\n",
       "      <th></th>\n",
       "      <th></th>\n",
       "      <th></th>\n",
       "      <th></th>\n",
       "    </tr>\n",
       "  </thead>\n",
       "  <tbody>\n",
       "    <tr>\n",
       "      <th>ANA</th>\n",
       "      <td>-12.815648</td>\n",
       "      <td>1.695563</td>\n",
       "      <td>-2.925391</td>\n",
       "      <td>19.685976</td>\n",
       "      <td>-5.582871</td>\n",
       "      <td>4.030574</td>\n",
       "    </tr>\n",
       "    <tr>\n",
       "      <th>ARI</th>\n",
       "      <td>12.613389</td>\n",
       "      <td>0.131503</td>\n",
       "      <td>7.736789</td>\n",
       "      <td>7.822092</td>\n",
       "      <td>1.092407</td>\n",
       "      <td>-30.102703</td>\n",
       "    </tr>\n",
       "    <tr>\n",
       "      <th>ATL</th>\n",
       "      <td>14.090630</td>\n",
       "      <td>9.589626</td>\n",
       "      <td>2.580021</td>\n",
       "      <td>13.452166</td>\n",
       "      <td>12.980497</td>\n",
       "      <td>10.342002</td>\n",
       "    </tr>\n",
       "    <tr>\n",
       "      <th>BAL</th>\n",
       "      <td>-13.472197</td>\n",
       "      <td>-10.933275</td>\n",
       "      <td>-18.312122</td>\n",
       "      <td>-11.989368</td>\n",
       "      <td>-10.553130</td>\n",
       "      <td>0.951479</td>\n",
       "    </tr>\n",
       "    <tr>\n",
       "      <th>BOS</th>\n",
       "      <td>8.400638</td>\n",
       "      <td>0.608153</td>\n",
       "      <td>-6.475081</td>\n",
       "      <td>1.356053</td>\n",
       "      <td>8.238596</td>\n",
       "      <td>4.054755</td>\n",
       "    </tr>\n",
       "  </tbody>\n",
       "</table>\n",
       "</div>"
      ],
      "text/plain": [
       "             1999       2000       2001       2002       2003       2004\n",
       "teamID                                                                  \n",
       "ANA    -12.815648   1.695563  -2.925391  19.685976  -5.582871   4.030574\n",
       "ARI     12.613389   0.131503   7.736789   7.822092   1.092407 -30.102703\n",
       "ATL     14.090630   9.589626   2.580021  13.452166  12.980497  10.342002\n",
       "BAL    -13.472197 -10.933275 -18.312122 -11.989368 -10.553130   0.951479\n",
       "BOS      8.400638   0.608153  -6.475081   1.356053   8.238596   4.054755"
      ]
     },
     "execution_count": 192,
     "metadata": {},
     "output_type": "execute_result"
    }
   ],
   "source": [
    "residData.index = df['teamID']\n",
    "residData.head()"
   ]
  },
  {
   "cell_type": "code",
   "execution_count": 193,
   "metadata": {
    "collapsed": false
   },
   "outputs": [
    {
     "data": {
      "text/html": [
       "<div>\n",
       "<table border=\"1\" class=\"dataframe\">\n",
       "  <thead>\n",
       "    <tr style=\"text-align: right;\">\n",
       "      <th>teamID</th>\n",
       "      <th>ANA</th>\n",
       "      <th>ARI</th>\n",
       "      <th>ATL</th>\n",
       "      <th>BAL</th>\n",
       "      <th>BOS</th>\n",
       "      <th>CHA</th>\n",
       "      <th>CHN</th>\n",
       "      <th>CIN</th>\n",
       "      <th>CLE</th>\n",
       "      <th>COL</th>\n",
       "      <th>...</th>\n",
       "      <th>OAK</th>\n",
       "      <th>PHI</th>\n",
       "      <th>PIT</th>\n",
       "      <th>SDN</th>\n",
       "      <th>SEA</th>\n",
       "      <th>SFN</th>\n",
       "      <th>SLN</th>\n",
       "      <th>TBA</th>\n",
       "      <th>TEX</th>\n",
       "      <th>TOR</th>\n",
       "    </tr>\n",
       "  </thead>\n",
       "  <tbody>\n",
       "    <tr>\n",
       "      <th>1999</th>\n",
       "      <td>-12.815648</td>\n",
       "      <td>12.613389</td>\n",
       "      <td>14.090630</td>\n",
       "      <td>-13.472197</td>\n",
       "      <td>8.400638</td>\n",
       "      <td>2.402954</td>\n",
       "      <td>-18.203053</td>\n",
       "      <td>20.539111</td>\n",
       "      <td>8.146082</td>\n",
       "      <td>-13.063285</td>\n",
       "      <td>...</td>\n",
       "      <td>14.810819</td>\n",
       "      <td>2.318430</td>\n",
       "      <td>5.719566</td>\n",
       "      <td>-6.886459</td>\n",
       "      <td>-3.382038</td>\n",
       "      <td>6.202787</td>\n",
       "      <td>-5.889897</td>\n",
       "      <td>-8.145411</td>\n",
       "      <td>4.865170</td>\n",
       "      <td>4.597799</td>\n",
       "    </tr>\n",
       "    <tr>\n",
       "      <th>2000</th>\n",
       "      <td>1.695563</td>\n",
       "      <td>0.131503</td>\n",
       "      <td>9.589626</td>\n",
       "      <td>-10.933275</td>\n",
       "      <td>0.608153</td>\n",
       "      <td>17.834225</td>\n",
       "      <td>-16.705468</td>\n",
       "      <td>5.405246</td>\n",
       "      <td>5.926110</td>\n",
       "      <td>0.206248</td>\n",
       "      <td>...</td>\n",
       "      <td>13.704880</td>\n",
       "      <td>-14.662805</td>\n",
       "      <td>-7.825340</td>\n",
       "      <td>-4.822668</td>\n",
       "      <td>9.545298</td>\n",
       "      <td>16.344554</td>\n",
       "      <td>13.153346</td>\n",
       "      <td>-13.049088</td>\n",
       "      <td>-12.288887</td>\n",
       "      <td>3.718464</td>\n",
       "    </tr>\n",
       "    <tr>\n",
       "      <th>2001</th>\n",
       "      <td>-2.925391</td>\n",
       "      <td>7.736789</td>\n",
       "      <td>2.580021</td>\n",
       "      <td>-18.312122</td>\n",
       "      <td>-6.475081</td>\n",
       "      <td>2.016329</td>\n",
       "      <td>7.174629</td>\n",
       "      <td>-12.170282</td>\n",
       "      <td>5.374796</td>\n",
       "      <td>-8.977470</td>\n",
       "      <td>...</td>\n",
       "      <td>26.391198</td>\n",
       "      <td>9.065650</td>\n",
       "      <td>-17.651414</td>\n",
       "      <td>2.484426</td>\n",
       "      <td>33.485852</td>\n",
       "      <td>9.416959</td>\n",
       "      <td>9.841484</td>\n",
       "      <td>-17.519615</td>\n",
       "      <td>-11.862512</td>\n",
       "      <td>-2.881301</td>\n",
       "    </tr>\n",
       "    <tr>\n",
       "      <th>2002</th>\n",
       "      <td>19.685976</td>\n",
       "      <td>7.822092</td>\n",
       "      <td>13.452166</td>\n",
       "      <td>-11.989368</td>\n",
       "      <td>1.356053</td>\n",
       "      <td>2.920130</td>\n",
       "      <td>-16.006617</td>\n",
       "      <td>3.092842</td>\n",
       "      <td>-9.857422</td>\n",
       "      <td>-5.026529</td>\n",
       "      <td>...</td>\n",
       "      <td>29.426754</td>\n",
       "      <td>1.681653</td>\n",
       "      <td>-2.186362</td>\n",
       "      <td>-7.948827</td>\n",
       "      <td>8.779583</td>\n",
       "      <td>11.303723</td>\n",
       "      <td>14.265641</td>\n",
       "      <td>-17.086560</td>\n",
       "      <td>-18.893241</td>\n",
       "      <td>-5.316818</td>\n",
       "    </tr>\n",
       "    <tr>\n",
       "      <th>2003</th>\n",
       "      <td>-5.582871</td>\n",
       "      <td>1.092407</td>\n",
       "      <td>12.980497</td>\n",
       "      <td>-10.553130</td>\n",
       "      <td>8.238596</td>\n",
       "      <td>9.015522</td>\n",
       "      <td>5.249973</td>\n",
       "      <td>-9.651842</td>\n",
       "      <td>-8.499958</td>\n",
       "      <td>-6.214983</td>\n",
       "      <td>...</td>\n",
       "      <td>19.165197</td>\n",
       "      <td>5.065713</td>\n",
       "      <td>-2.744157</td>\n",
       "      <td>-11.825707</td>\n",
       "      <td>8.833309</td>\n",
       "      <td>16.653839</td>\n",
       "      <td>1.467137</td>\n",
       "      <td>-7.715129</td>\n",
       "      <td>-16.469686</td>\n",
       "      <td>8.963777</td>\n",
       "    </tr>\n",
       "  </tbody>\n",
       "</table>\n",
       "<p>5 rows × 30 columns</p>\n",
       "</div>"
      ],
      "text/plain": [
       "teamID        ANA        ARI        ATL        BAL       BOS        CHA  \\\n",
       "1999   -12.815648  12.613389  14.090630 -13.472197  8.400638   2.402954   \n",
       "2000     1.695563   0.131503   9.589626 -10.933275  0.608153  17.834225   \n",
       "2001    -2.925391   7.736789   2.580021 -18.312122 -6.475081   2.016329   \n",
       "2002    19.685976   7.822092  13.452166 -11.989368  1.356053   2.920130   \n",
       "2003    -5.582871   1.092407  12.980497 -10.553130  8.238596   9.015522   \n",
       "\n",
       "teamID        CHN        CIN       CLE        COL    ...           OAK  \\\n",
       "1999   -18.203053  20.539111  8.146082 -13.063285    ...     14.810819   \n",
       "2000   -16.705468   5.405246  5.926110   0.206248    ...     13.704880   \n",
       "2001     7.174629 -12.170282  5.374796  -8.977470    ...     26.391198   \n",
       "2002   -16.006617   3.092842 -9.857422  -5.026529    ...     29.426754   \n",
       "2003     5.249973  -9.651842 -8.499958  -6.214983    ...     19.165197   \n",
       "\n",
       "teamID        PHI        PIT        SDN        SEA        SFN        SLN  \\\n",
       "1999     2.318430   5.719566  -6.886459  -3.382038   6.202787  -5.889897   \n",
       "2000   -14.662805  -7.825340  -4.822668   9.545298  16.344554  13.153346   \n",
       "2001     9.065650 -17.651414   2.484426  33.485852   9.416959   9.841484   \n",
       "2002     1.681653  -2.186362  -7.948827   8.779583  11.303723  14.265641   \n",
       "2003     5.065713  -2.744157 -11.825707   8.833309  16.653839   1.467137   \n",
       "\n",
       "teamID        TBA        TEX       TOR  \n",
       "1999    -8.145411   4.865170  4.597799  \n",
       "2000   -13.049088 -12.288887  3.718464  \n",
       "2001   -17.519615 -11.862512 -2.881301  \n",
       "2002   -17.086560 -18.893241 -5.316818  \n",
       "2003    -7.715129 -16.469686  8.963777  \n",
       "\n",
       "[5 rows x 30 columns]"
      ]
     },
     "execution_count": 193,
     "metadata": {},
     "output_type": "execute_result"
    }
   ],
   "source": [
    "residData = residData.T\n",
    "residData.head()"
   ]
  },
  {
   "cell_type": "code",
   "execution_count": 198,
   "metadata": {
    "collapsed": false
   },
   "outputs": [
    {
     "data": {
      "text/html": [
       "<div>\n",
       "<table border=\"1\" class=\"dataframe\">\n",
       "  <thead>\n",
       "    <tr style=\"text-align: right;\">\n",
       "      <th>teamID</th>\n",
       "      <th>ANA</th>\n",
       "      <th>ARI</th>\n",
       "      <th>ATL</th>\n",
       "      <th>BAL</th>\n",
       "      <th>BOS</th>\n",
       "      <th>CHA</th>\n",
       "      <th>CHN</th>\n",
       "      <th>CIN</th>\n",
       "      <th>CLE</th>\n",
       "      <th>COL</th>\n",
       "      <th>...</th>\n",
       "      <th>OAK</th>\n",
       "      <th>PHI</th>\n",
       "      <th>PIT</th>\n",
       "      <th>SDN</th>\n",
       "      <th>SEA</th>\n",
       "      <th>SFN</th>\n",
       "      <th>SLN</th>\n",
       "      <th>TBA</th>\n",
       "      <th>TEX</th>\n",
       "      <th>TOR</th>\n",
       "    </tr>\n",
       "  </thead>\n",
       "  <tbody>\n",
       "    <tr>\n",
       "      <th>1999</th>\n",
       "      <td>-12.815648</td>\n",
       "      <td>12.613389</td>\n",
       "      <td>14.090630</td>\n",
       "      <td>-13.472197</td>\n",
       "      <td>8.400638</td>\n",
       "      <td>2.402954</td>\n",
       "      <td>-18.203053</td>\n",
       "      <td>20.539111</td>\n",
       "      <td>8.146082</td>\n",
       "      <td>-13.063285</td>\n",
       "      <td>...</td>\n",
       "      <td>14.810819</td>\n",
       "      <td>2.318430</td>\n",
       "      <td>5.719566</td>\n",
       "      <td>-6.886459</td>\n",
       "      <td>-3.382038</td>\n",
       "      <td>6.202787</td>\n",
       "      <td>-5.889897</td>\n",
       "      <td>-8.145411</td>\n",
       "      <td>4.865170</td>\n",
       "      <td>4.597799</td>\n",
       "    </tr>\n",
       "    <tr>\n",
       "      <th>2000</th>\n",
       "      <td>1.695563</td>\n",
       "      <td>0.131503</td>\n",
       "      <td>9.589626</td>\n",
       "      <td>-10.933275</td>\n",
       "      <td>0.608153</td>\n",
       "      <td>17.834225</td>\n",
       "      <td>-16.705468</td>\n",
       "      <td>5.405246</td>\n",
       "      <td>5.926110</td>\n",
       "      <td>0.206248</td>\n",
       "      <td>...</td>\n",
       "      <td>13.704880</td>\n",
       "      <td>-14.662805</td>\n",
       "      <td>-7.825340</td>\n",
       "      <td>-4.822668</td>\n",
       "      <td>9.545298</td>\n",
       "      <td>16.344554</td>\n",
       "      <td>13.153346</td>\n",
       "      <td>-13.049088</td>\n",
       "      <td>-12.288887</td>\n",
       "      <td>3.718464</td>\n",
       "    </tr>\n",
       "    <tr>\n",
       "      <th>2001</th>\n",
       "      <td>-2.925391</td>\n",
       "      <td>7.736789</td>\n",
       "      <td>2.580021</td>\n",
       "      <td>-18.312122</td>\n",
       "      <td>-6.475081</td>\n",
       "      <td>2.016329</td>\n",
       "      <td>7.174629</td>\n",
       "      <td>-12.170282</td>\n",
       "      <td>5.374796</td>\n",
       "      <td>-8.977470</td>\n",
       "      <td>...</td>\n",
       "      <td>26.391198</td>\n",
       "      <td>9.065650</td>\n",
       "      <td>-17.651414</td>\n",
       "      <td>2.484426</td>\n",
       "      <td>33.485852</td>\n",
       "      <td>9.416959</td>\n",
       "      <td>9.841484</td>\n",
       "      <td>-17.519615</td>\n",
       "      <td>-11.862512</td>\n",
       "      <td>-2.881301</td>\n",
       "    </tr>\n",
       "    <tr>\n",
       "      <th>2002</th>\n",
       "      <td>19.685976</td>\n",
       "      <td>7.822092</td>\n",
       "      <td>13.452166</td>\n",
       "      <td>-11.989368</td>\n",
       "      <td>1.356053</td>\n",
       "      <td>2.920130</td>\n",
       "      <td>-16.006617</td>\n",
       "      <td>3.092842</td>\n",
       "      <td>-9.857422</td>\n",
       "      <td>-5.026529</td>\n",
       "      <td>...</td>\n",
       "      <td>29.426754</td>\n",
       "      <td>1.681653</td>\n",
       "      <td>-2.186362</td>\n",
       "      <td>-7.948827</td>\n",
       "      <td>8.779583</td>\n",
       "      <td>11.303723</td>\n",
       "      <td>14.265641</td>\n",
       "      <td>-17.086560</td>\n",
       "      <td>-18.893241</td>\n",
       "      <td>-5.316818</td>\n",
       "    </tr>\n",
       "    <tr>\n",
       "      <th>2003</th>\n",
       "      <td>-5.582871</td>\n",
       "      <td>1.092407</td>\n",
       "      <td>12.980497</td>\n",
       "      <td>-10.553130</td>\n",
       "      <td>8.238596</td>\n",
       "      <td>9.015522</td>\n",
       "      <td>5.249973</td>\n",
       "      <td>-9.651842</td>\n",
       "      <td>-8.499958</td>\n",
       "      <td>-6.214983</td>\n",
       "      <td>...</td>\n",
       "      <td>19.165197</td>\n",
       "      <td>5.065713</td>\n",
       "      <td>-2.744157</td>\n",
       "      <td>-11.825707</td>\n",
       "      <td>8.833309</td>\n",
       "      <td>16.653839</td>\n",
       "      <td>1.467137</td>\n",
       "      <td>-7.715129</td>\n",
       "      <td>-16.469686</td>\n",
       "      <td>8.963777</td>\n",
       "    </tr>\n",
       "  </tbody>\n",
       "</table>\n",
       "<p>5 rows × 30 columns</p>\n",
       "</div>"
      ],
      "text/plain": [
       "teamID        ANA        ARI        ATL        BAL       BOS        CHA  \\\n",
       "1999   -12.815648  12.613389  14.090630 -13.472197  8.400638   2.402954   \n",
       "2000     1.695563   0.131503   9.589626 -10.933275  0.608153  17.834225   \n",
       "2001    -2.925391   7.736789   2.580021 -18.312122 -6.475081   2.016329   \n",
       "2002    19.685976   7.822092  13.452166 -11.989368  1.356053   2.920130   \n",
       "2003    -5.582871   1.092407  12.980497 -10.553130  8.238596   9.015522   \n",
       "\n",
       "teamID        CHN        CIN       CLE        COL    ...           OAK  \\\n",
       "1999   -18.203053  20.539111  8.146082 -13.063285    ...     14.810819   \n",
       "2000   -16.705468   5.405246  5.926110   0.206248    ...     13.704880   \n",
       "2001     7.174629 -12.170282  5.374796  -8.977470    ...     26.391198   \n",
       "2002   -16.006617   3.092842 -9.857422  -5.026529    ...     29.426754   \n",
       "2003     5.249973  -9.651842 -8.499958  -6.214983    ...     19.165197   \n",
       "\n",
       "teamID        PHI        PIT        SDN        SEA        SFN        SLN  \\\n",
       "1999     2.318430   5.719566  -6.886459  -3.382038   6.202787  -5.889897   \n",
       "2000   -14.662805  -7.825340  -4.822668   9.545298  16.344554  13.153346   \n",
       "2001     9.065650 -17.651414   2.484426  33.485852   9.416959   9.841484   \n",
       "2002     1.681653  -2.186362  -7.948827   8.779583  11.303723  14.265641   \n",
       "2003     5.065713  -2.744157 -11.825707   8.833309  16.653839   1.467137   \n",
       "\n",
       "teamID        TBA        TEX       TOR  \n",
       "1999    -8.145411   4.865170  4.597799  \n",
       "2000   -13.049088 -12.288887  3.718464  \n",
       "2001   -17.519615 -11.862512 -2.881301  \n",
       "2002   -17.086560 -18.893241 -5.316818  \n",
       "2003    -7.715129 -16.469686  8.963777  \n",
       "\n",
       "[5 rows x 30 columns]"
      ]
     },
     "execution_count": 198,
     "metadata": {},
     "output_type": "execute_result"
    }
   ],
   "source": [
    "residData.index = residData.index.format()\n",
    "residData.head()"
   ]
  },
  {
   "cell_type": "code",
   "execution_count": 200,
   "metadata": {
    "collapsed": false
   },
   "outputs": [
    {
     "data": {
      "text/plain": [
       "<matplotlib.text.Text at 0xb326d30>"
      ]
     },
     "execution_count": 200,
     "metadata": {},
     "output_type": "execute_result"
    },
    {
     "data": {
      "image/png": "[encoded data removed]",
      "text/plain": [
       "<matplotlib.figure.Figure at 0xb31f208>"
      ]
     },
     "metadata": {},
     "output_type": "display_data"
    }
   ],
   "source": [
    "residData.plot(title='Residuals from least squares estimates across years', figsize=(15,8),\n",
    "              color=map(lambda x: 'blue' if x=='OAK' else 'gray', df.teamID))\n",
    "plt.xlabel('Year')\n",
    "plt.ylabel('Residuals')"
   ]
  },
  {
   "cell_type": "markdown",
   "metadata": {},
   "source": [
    "## 问题1讨论：\n",
    "*对问题1和其中的任务进行一个简短的总结，大约100字左右*。\n",
    "\n",
    "根据问题1(d)和1(e)，我们可以看到奥克兰棒球队在2001到2003年以低预算达成了大量场次的胜利，使得奥克兰队脱颖而出。\n",
    "\n",
    "---"
   ]
  },
  {
   "cell_type": "markdown",
   "metadata": {},
   "source": [
    "## 问题2\n",
    "一些媒体报道显示，在过去十年间，美国的收入差距有所增加。这里我们将看看全球数据。使用探索性数据分析来确定非洲、拉丁美洲、亚洲、欧洲、北美之间的收入差距在过去二十年间是否有所增加、减少或保持不变。"
   ]
  },
  {
   "cell_type": "markdown",
   "metadata": {},
   "source": [
    "#### 问题2（a）\n",
    "使用[World Atlas](http://www.worldatlas.com/cntycont.htm)提供的大陆国家名单，将`countries.csv`加载到一个pandas DataFrame，然后命名这个数据集为`countries`。这个数据集可以在`2014_data`仓库中可以找到[here](https://github.com/cs109/2014_data/blob/master/countries.csv)。"
   ]
  },
  {
   "cell_type": "code",
   "execution_count": 201,
   "metadata": {
    "collapsed": true
   },
   "outputs": [],
   "source": [
    "# your code here\n",
    "url = \"https://raw.githubusercontent.com/cs109/2014_data/master/countries.csv\"\n",
    "s = BytesIO(requests.get(url).content)"
   ]
  },
  {
   "cell_type": "code",
   "execution_count": 202,
   "metadata": {
    "collapsed": false
   },
   "outputs": [
    {
     "data": {
      "text/html": [
       "<div>\n",
       "<table border=\"1\" class=\"dataframe\">\n",
       "  <thead>\n",
       "    <tr style=\"text-align: right;\">\n",
       "      <th></th>\n",
       "      <th>Country</th>\n",
       "      <th>Region</th>\n",
       "    </tr>\n",
       "  </thead>\n",
       "  <tbody>\n",
       "    <tr>\n",
       "      <th>0</th>\n",
       "      <td>Algeria</td>\n",
       "      <td>AFRICA</td>\n",
       "    </tr>\n",
       "    <tr>\n",
       "      <th>1</th>\n",
       "      <td>Angola</td>\n",
       "      <td>AFRICA</td>\n",
       "    </tr>\n",
       "    <tr>\n",
       "      <th>2</th>\n",
       "      <td>Benin</td>\n",
       "      <td>AFRICA</td>\n",
       "    </tr>\n",
       "    <tr>\n",
       "      <th>3</th>\n",
       "      <td>Botswana</td>\n",
       "      <td>AFRICA</td>\n",
       "    </tr>\n",
       "    <tr>\n",
       "      <th>4</th>\n",
       "      <td>Burkina</td>\n",
       "      <td>AFRICA</td>\n",
       "    </tr>\n",
       "  </tbody>\n",
       "</table>\n",
       "</div>"
      ],
      "text/plain": [
       "    Country  Region\n",
       "0   Algeria  AFRICA\n",
       "1    Angola  AFRICA\n",
       "2     Benin  AFRICA\n",
       "3  Botswana  AFRICA\n",
       "4   Burkina  AFRICA"
      ]
     },
     "execution_count": 202,
     "metadata": {},
     "output_type": "execute_result"
    }
   ],
   "source": [
    "countries = pd.read_csv(s)\n",
    "countries.head()"
   ]
  },
  {
   "cell_type": "code",
   "execution_count": 212,
   "metadata": {
    "collapsed": false
   },
   "outputs": [
    {
     "data": {
      "text/html": [
       "<div>\n",
       "<table border=\"1\" class=\"dataframe\">\n",
       "  <thead>\n",
       "    <tr style=\"text-align: right;\">\n",
       "      <th></th>\n",
       "      <th>Country</th>\n",
       "      <th>Region</th>\n",
       "    </tr>\n",
       "  </thead>\n",
       "  <tbody>\n",
       "    <tr>\n",
       "      <th>0</th>\n",
       "      <td>Algeria</td>\n",
       "      <td>AFRICA</td>\n",
       "    </tr>\n",
       "    <tr>\n",
       "      <th>1</th>\n",
       "      <td>Angola</td>\n",
       "      <td>AFRICA</td>\n",
       "    </tr>\n",
       "    <tr>\n",
       "      <th>2</th>\n",
       "      <td>Benin</td>\n",
       "      <td>AFRICA</td>\n",
       "    </tr>\n",
       "    <tr>\n",
       "      <th>3</th>\n",
       "      <td>Botswana</td>\n",
       "      <td>AFRICA</td>\n",
       "    </tr>\n",
       "    <tr>\n",
       "      <th>4</th>\n",
       "      <td>Burkina</td>\n",
       "      <td>AFRICA</td>\n",
       "    </tr>\n",
       "  </tbody>\n",
       "</table>\n",
       "</div>"
      ],
      "text/plain": [
       "    Country  Region\n",
       "0   Algeria  AFRICA\n",
       "1    Angola  AFRICA\n",
       "2     Benin  AFRICA\n",
       "3  Botswana  AFRICA\n",
       "4   Burkina  AFRICA"
      ]
     },
     "execution_count": 212,
     "metadata": {},
     "output_type": "execute_result"
    }
   ],
   "source": [
    "# countries = pd.read_csv(url)\n",
    "# countries.head()"
   ]
  },
  {
   "cell_type": "markdown",
   "metadata": {},
   "source": [
    "Using the [data available on Gapminder](http://www.gapminder.org/data/), load in the [Income per person (GDP/capita, PPP$ inflation-adjusted)](https://spreadsheets.google.com/pub?key=phAwcNAVuyj1jiMAkmq1iMg&gid=0) as a pandas DataFrame and name this data set as `income`.\n",
    "\n",
    "**Hint**: Consider using the pandas function `pandas.read_excel()` to read in the .xlsx file directly."
   ]
  },
  {
   "cell_type": "code",
   "execution_count": 362,
   "metadata": {
    "collapsed": false
   },
   "outputs": [
    {
     "data": {
      "text/html": [
       "<div>\n",
       "<table border=\"1\" class=\"dataframe\">\n",
       "  <thead>\n",
       "    <tr style=\"text-align: right;\">\n",
       "      <th></th>\n",
       "      <th>GDP per capita</th>\n",
       "      <th>1800</th>\n",
       "      <th>1801</th>\n",
       "      <th>1802</th>\n",
       "      <th>1803</th>\n",
       "      <th>1804</th>\n",
       "      <th>1805</th>\n",
       "      <th>1806</th>\n",
       "      <th>1807</th>\n",
       "      <th>1808</th>\n",
       "      <th>...</th>\n",
       "      <th>2006</th>\n",
       "      <th>2007</th>\n",
       "      <th>2008</th>\n",
       "      <th>2009</th>\n",
       "      <th>2010</th>\n",
       "      <th>2011</th>\n",
       "      <th>2012</th>\n",
       "      <th>2013</th>\n",
       "      <th>2014</th>\n",
       "      <th>2015</th>\n",
       "    </tr>\n",
       "  </thead>\n",
       "  <tbody>\n",
       "    <tr>\n",
       "      <th>0</th>\n",
       "      <td>Abkhazia</td>\n",
       "      <td>NaN</td>\n",
       "      <td>NaN</td>\n",
       "      <td>NaN</td>\n",
       "      <td>NaN</td>\n",
       "      <td>NaN</td>\n",
       "      <td>NaN</td>\n",
       "      <td>NaN</td>\n",
       "      <td>NaN</td>\n",
       "      <td>NaN</td>\n",
       "      <td>...</td>\n",
       "      <td>NaN</td>\n",
       "      <td>NaN</td>\n",
       "      <td>NaN</td>\n",
       "      <td>NaN</td>\n",
       "      <td>NaN</td>\n",
       "      <td>NaN</td>\n",
       "      <td>NaN</td>\n",
       "      <td>NaN</td>\n",
       "      <td>NaN</td>\n",
       "      <td>NaN</td>\n",
       "    </tr>\n",
       "    <tr>\n",
       "      <th>1</th>\n",
       "      <td>Afghanistan</td>\n",
       "      <td>603.0</td>\n",
       "      <td>603.0</td>\n",
       "      <td>603.0</td>\n",
       "      <td>603.0</td>\n",
       "      <td>603.0</td>\n",
       "      <td>603.0</td>\n",
       "      <td>603.0</td>\n",
       "      <td>603.0</td>\n",
       "      <td>603.0</td>\n",
       "      <td>...</td>\n",
       "      <td>1173.0</td>\n",
       "      <td>1298.0</td>\n",
       "      <td>1311.0</td>\n",
       "      <td>1548.0</td>\n",
       "      <td>1637.0</td>\n",
       "      <td>1695.0</td>\n",
       "      <td>1893.0</td>\n",
       "      <td>1884.0</td>\n",
       "      <td>1877.0</td>\n",
       "      <td>1925.0</td>\n",
       "    </tr>\n",
       "    <tr>\n",
       "      <th>2</th>\n",
       "      <td>Akrotiri and Dhekelia</td>\n",
       "      <td>NaN</td>\n",
       "      <td>NaN</td>\n",
       "      <td>NaN</td>\n",
       "      <td>NaN</td>\n",
       "      <td>NaN</td>\n",
       "      <td>NaN</td>\n",
       "      <td>NaN</td>\n",
       "      <td>NaN</td>\n",
       "      <td>NaN</td>\n",
       "      <td>...</td>\n",
       "      <td>NaN</td>\n",
       "      <td>NaN</td>\n",
       "      <td>NaN</td>\n",
       "      <td>NaN</td>\n",
       "      <td>NaN</td>\n",
       "      <td>NaN</td>\n",
       "      <td>NaN</td>\n",
       "      <td>NaN</td>\n",
       "      <td>NaN</td>\n",
       "      <td>NaN</td>\n",
       "    </tr>\n",
       "    <tr>\n",
       "      <th>3</th>\n",
       "      <td>Albania</td>\n",
       "      <td>667.0</td>\n",
       "      <td>667.0</td>\n",
       "      <td>668.0</td>\n",
       "      <td>668.0</td>\n",
       "      <td>668.0</td>\n",
       "      <td>668.0</td>\n",
       "      <td>668.0</td>\n",
       "      <td>668.0</td>\n",
       "      <td>668.0</td>\n",
       "      <td>...</td>\n",
       "      <td>7476.0</td>\n",
       "      <td>7977.0</td>\n",
       "      <td>8644.0</td>\n",
       "      <td>8994.0</td>\n",
       "      <td>9374.0</td>\n",
       "      <td>9640.0</td>\n",
       "      <td>9811.0</td>\n",
       "      <td>9961.0</td>\n",
       "      <td>10160.0</td>\n",
       "      <td>10620.0</td>\n",
       "    </tr>\n",
       "    <tr>\n",
       "      <th>4</th>\n",
       "      <td>Algeria</td>\n",
       "      <td>716.0</td>\n",
       "      <td>716.0</td>\n",
       "      <td>717.0</td>\n",
       "      <td>718.0</td>\n",
       "      <td>719.0</td>\n",
       "      <td>720.0</td>\n",
       "      <td>721.0</td>\n",
       "      <td>722.0</td>\n",
       "      <td>723.0</td>\n",
       "      <td>...</td>\n",
       "      <td>12088.0</td>\n",
       "      <td>12289.0</td>\n",
       "      <td>12314.0</td>\n",
       "      <td>12285.0</td>\n",
       "      <td>12494.0</td>\n",
       "      <td>12606.0</td>\n",
       "      <td>12779.0</td>\n",
       "      <td>12893.0</td>\n",
       "      <td>13179.0</td>\n",
       "      <td>13434.0</td>\n",
       "    </tr>\n",
       "  </tbody>\n",
       "</table>\n",
       "<p>5 rows × 217 columns</p>\n",
       "</div>"
      ],
      "text/plain": [
       "          GDP per capita   1800   1801   1802   1803   1804   1805   1806  \\\n",
       "0               Abkhazia    NaN    NaN    NaN    NaN    NaN    NaN    NaN   \n",
       "1            Afghanistan  603.0  603.0  603.0  603.0  603.0  603.0  603.0   \n",
       "2  Akrotiri and Dhekelia    NaN    NaN    NaN    NaN    NaN    NaN    NaN   \n",
       "3                Albania  667.0  667.0  668.0  668.0  668.0  668.0  668.0   \n",
       "4                Algeria  716.0  716.0  717.0  718.0  719.0  720.0  721.0   \n",
       "\n",
       "    1807   1808   ...        2006     2007     2008     2009     2010  \\\n",
       "0    NaN    NaN   ...         NaN      NaN      NaN      NaN      NaN   \n",
       "1  603.0  603.0   ...      1173.0   1298.0   1311.0   1548.0   1637.0   \n",
       "2    NaN    NaN   ...         NaN      NaN      NaN      NaN      NaN   \n",
       "3  668.0  668.0   ...      7476.0   7977.0   8644.0   8994.0   9374.0   \n",
       "4  722.0  723.0   ...     12088.0  12289.0  12314.0  12285.0  12494.0   \n",
       "\n",
       "      2011     2012     2013     2014     2015  \n",
       "0      NaN      NaN      NaN      NaN      NaN  \n",
       "1   1695.0   1893.0   1884.0   1877.0   1925.0  \n",
       "2      NaN      NaN      NaN      NaN      NaN  \n",
       "3   9640.0   9811.0   9961.0  10160.0  10620.0  \n",
       "4  12606.0  12779.0  12893.0  13179.0  13434.0  \n",
       "\n",
       "[5 rows x 217 columns]"
      ]
     },
     "execution_count": 362,
     "metadata": {},
     "output_type": "execute_result"
    }
   ],
   "source": [
    "# your code here\n",
    "# income_link = 'http://docs.google.com/spreadsheet/pub?key=phAwcNAVuyj1jiMAkmq1iMg&output=xlsx'\n",
    "# source = BytesIO(requests.get(income_link).content)\n",
    "# income = pd.read_excel(source, sheetname='Data')\n",
    "# income.head()\n",
    "\n",
    "path = 'indicator gapminder gdp_per_capita_ppp.xlsx'\n",
    "income = pd.read_excel(path, sheetname='Data')\n",
    "income.head()"
   ]
  },
  {
   "cell_type": "markdown",
   "metadata": {},
   "source": [
    "将这个数据集转换为行为年，列为国家的数据集，展现此数据集加载时的头信息。"
   ]
  },
  {
   "cell_type": "code",
   "execution_count": 363,
   "metadata": {
    "collapsed": false
   },
   "outputs": [],
   "source": [
    "# your code here\n",
    "income.index = income[income.columns[0]]"
   ]
  },
  {
   "cell_type": "code",
   "execution_count": 364,
   "metadata": {
    "collapsed": false
   },
   "outputs": [],
   "source": [
    "income.drop(income.columns[0], axis=1, inplace=1)"
   ]
  },
  {
   "cell_type": "code",
   "execution_count": 365,
   "metadata": {
    "collapsed": false
   },
   "outputs": [],
   "source": [
    "income.columns = map(lambda x: int(x), income.columns)"
   ]
  },
  {
   "cell_type": "code",
   "execution_count": 367,
   "metadata": {
    "collapsed": false
   },
   "outputs": [
    {
     "data": {
      "text/html": [
       "<div>\n",
       "<table border=\"1\" class=\"dataframe\">\n",
       "  <thead>\n",
       "    <tr style=\"text-align: right;\">\n",
       "      <th>GDP per capita</th>\n",
       "      <th>Abkhazia</th>\n",
       "      <th>Afghanistan</th>\n",
       "      <th>Akrotiri and Dhekelia</th>\n",
       "      <th>Albania</th>\n",
       "      <th>Algeria</th>\n",
       "      <th>American Samoa</th>\n",
       "      <th>Andorra</th>\n",
       "      <th>Angola</th>\n",
       "      <th>Anguilla</th>\n",
       "      <th>Antigua and Barbuda</th>\n",
       "      <th>...</th>\n",
       "      <th>North Yemen (former)</th>\n",
       "      <th>South Yemen (former)</th>\n",
       "      <th>Yemen</th>\n",
       "      <th>Yugoslavia</th>\n",
       "      <th>Zambia</th>\n",
       "      <th>Zimbabwe</th>\n",
       "      <th>Åland</th>\n",
       "      <th>South Sudan</th>\n",
       "      <th>nan</th>\n",
       "      <th>nan</th>\n",
       "    </tr>\n",
       "  </thead>\n",
       "  <tbody>\n",
       "    <tr>\n",
       "      <th>1800</th>\n",
       "      <td>NaN</td>\n",
       "      <td>603.0</td>\n",
       "      <td>NaN</td>\n",
       "      <td>667.0</td>\n",
       "      <td>716.0</td>\n",
       "      <td>NaN</td>\n",
       "      <td>1197.0</td>\n",
       "      <td>618.0</td>\n",
       "      <td>NaN</td>\n",
       "      <td>757.0</td>\n",
       "      <td>...</td>\n",
       "      <td>NaN</td>\n",
       "      <td>NaN</td>\n",
       "      <td>877.0</td>\n",
       "      <td>NaN</td>\n",
       "      <td>663.0</td>\n",
       "      <td>869.0</td>\n",
       "      <td>NaN</td>\n",
       "      <td>507.0</td>\n",
       "      <td>NaN</td>\n",
       "      <td>NaN</td>\n",
       "    </tr>\n",
       "    <tr>\n",
       "      <th>1801</th>\n",
       "      <td>NaN</td>\n",
       "      <td>603.0</td>\n",
       "      <td>NaN</td>\n",
       "      <td>667.0</td>\n",
       "      <td>716.0</td>\n",
       "      <td>NaN</td>\n",
       "      <td>1199.0</td>\n",
       "      <td>620.0</td>\n",
       "      <td>NaN</td>\n",
       "      <td>757.0</td>\n",
       "      <td>...</td>\n",
       "      <td>NaN</td>\n",
       "      <td>NaN</td>\n",
       "      <td>879.0</td>\n",
       "      <td>NaN</td>\n",
       "      <td>665.0</td>\n",
       "      <td>870.0</td>\n",
       "      <td>NaN</td>\n",
       "      <td>507.0</td>\n",
       "      <td>NaN</td>\n",
       "      <td>NaN</td>\n",
       "    </tr>\n",
       "    <tr>\n",
       "      <th>1802</th>\n",
       "      <td>NaN</td>\n",
       "      <td>603.0</td>\n",
       "      <td>NaN</td>\n",
       "      <td>668.0</td>\n",
       "      <td>717.0</td>\n",
       "      <td>NaN</td>\n",
       "      <td>1201.0</td>\n",
       "      <td>623.0</td>\n",
       "      <td>NaN</td>\n",
       "      <td>757.0</td>\n",
       "      <td>...</td>\n",
       "      <td>NaN</td>\n",
       "      <td>NaN</td>\n",
       "      <td>882.0</td>\n",
       "      <td>NaN</td>\n",
       "      <td>667.0</td>\n",
       "      <td>871.0</td>\n",
       "      <td>NaN</td>\n",
       "      <td>507.0</td>\n",
       "      <td>NaN</td>\n",
       "      <td>NaN</td>\n",
       "    </tr>\n",
       "    <tr>\n",
       "      <th>1803</th>\n",
       "      <td>NaN</td>\n",
       "      <td>603.0</td>\n",
       "      <td>NaN</td>\n",
       "      <td>668.0</td>\n",
       "      <td>718.0</td>\n",
       "      <td>NaN</td>\n",
       "      <td>1204.0</td>\n",
       "      <td>626.0</td>\n",
       "      <td>NaN</td>\n",
       "      <td>757.0</td>\n",
       "      <td>...</td>\n",
       "      <td>NaN</td>\n",
       "      <td>NaN</td>\n",
       "      <td>884.0</td>\n",
       "      <td>NaN</td>\n",
       "      <td>668.0</td>\n",
       "      <td>872.0</td>\n",
       "      <td>NaN</td>\n",
       "      <td>507.0</td>\n",
       "      <td>NaN</td>\n",
       "      <td>NaN</td>\n",
       "    </tr>\n",
       "    <tr>\n",
       "      <th>1804</th>\n",
       "      <td>NaN</td>\n",
       "      <td>603.0</td>\n",
       "      <td>NaN</td>\n",
       "      <td>668.0</td>\n",
       "      <td>719.0</td>\n",
       "      <td>NaN</td>\n",
       "      <td>1206.0</td>\n",
       "      <td>628.0</td>\n",
       "      <td>NaN</td>\n",
       "      <td>757.0</td>\n",
       "      <td>...</td>\n",
       "      <td>NaN</td>\n",
       "      <td>NaN</td>\n",
       "      <td>887.0</td>\n",
       "      <td>NaN</td>\n",
       "      <td>670.0</td>\n",
       "      <td>873.0</td>\n",
       "      <td>NaN</td>\n",
       "      <td>508.0</td>\n",
       "      <td>NaN</td>\n",
       "      <td>NaN</td>\n",
       "    </tr>\n",
       "  </tbody>\n",
       "</table>\n",
       "<p>5 rows × 262 columns</p>\n",
       "</div>"
      ],
      "text/plain": [
       "GDP per capita  Abkhazia  Afghanistan  Akrotiri and Dhekelia  Albania  \\\n",
       "1800                 NaN        603.0                    NaN    667.0   \n",
       "1801                 NaN        603.0                    NaN    667.0   \n",
       "1802                 NaN        603.0                    NaN    668.0   \n",
       "1803                 NaN        603.0                    NaN    668.0   \n",
       "1804                 NaN        603.0                    NaN    668.0   \n",
       "\n",
       "GDP per capita  Algeria  American Samoa  Andorra  Angola  Anguilla  \\\n",
       "1800              716.0             NaN   1197.0   618.0       NaN   \n",
       "1801              716.0             NaN   1199.0   620.0       NaN   \n",
       "1802              717.0             NaN   1201.0   623.0       NaN   \n",
       "1803              718.0             NaN   1204.0   626.0       NaN   \n",
       "1804              719.0             NaN   1206.0   628.0       NaN   \n",
       "\n",
       "GDP per capita  Antigua and Barbuda ...   North Yemen (former)  \\\n",
       "1800                          757.0 ...                    NaN   \n",
       "1801                          757.0 ...                    NaN   \n",
       "1802                          757.0 ...                    NaN   \n",
       "1803                          757.0 ...                    NaN   \n",
       "1804                          757.0 ...                    NaN   \n",
       "\n",
       "GDP per capita  South Yemen (former)  Yemen  Yugoslavia  Zambia  Zimbabwe  \\\n",
       "1800                             NaN  877.0         NaN   663.0     869.0   \n",
       "1801                             NaN  879.0         NaN   665.0     870.0   \n",
       "1802                             NaN  882.0         NaN   667.0     871.0   \n",
       "1803                             NaN  884.0         NaN   668.0     872.0   \n",
       "1804                             NaN  887.0         NaN   670.0     873.0   \n",
       "\n",
       "GDP per capita  Åland  South Sudan  NaN  NaN  \n",
       "1800              NaN        507.0  NaN  NaN  \n",
       "1801              NaN        507.0  NaN  NaN  \n",
       "1802              NaN        507.0  NaN  NaN  \n",
       "1803              NaN        507.0  NaN  NaN  \n",
       "1804              NaN        508.0  NaN  NaN  \n",
       "\n",
       "[5 rows x 262 columns]"
      ]
     },
     "execution_count": 367,
     "metadata": {},
     "output_type": "execute_result"
    }
   ],
   "source": [
    "income = income.transpose()\n",
    "income.head()"
   ]
  },
  {
   "cell_type": "markdown",
   "metadata": {},
   "source": [
    "#### 问题2（b）\n",
    "以图形化方式展示任意给定年份（比如2000）世界各国人均收入分配情况。什么类型的图形展示效果最好？"
   ]
  },
  {
   "cell_type": "code",
   "execution_count": 256,
   "metadata": {
    "collapsed": false
   },
   "outputs": [
    {
     "data": {
      "image/png": "[encoded data removed]",
      "text/plain": [
       "<matplotlib.figure.Figure at 0x103a7518>"
      ]
     },
     "metadata": {},
     "output_type": "display_data"
    },
    {
     "data": {
      "image/png": "[encoded data removed]",
      "text/plain": [
       "<matplotlib.figure.Figure at 0x10278a20>"
      ]
     },
     "metadata": {},
     "output_type": "display_data"
    }
   ],
   "source": [
    "# your code here\n",
    "year = 2000\n",
    "# plt.plot(subplots=1)\n",
    "plt.hist(income.loc[year].dropna(), bins=20)\n",
    "plt.title('Year: {:d}'.format(year))\n",
    "plt.xlabel('Income per person')\n",
    "plt.ylabel('Frequency')\n",
    "plt.show()\n",
    "\n",
    "plt.hist(np.log10(income.loc[year].dropna()), bins=20)\n",
    "plt.title('Year: %i' % year)\n",
    "plt.xlabel('Income per person (log10 scale)')\n",
    "plt.ylabel('Frequency')\n",
    "plt.show()"
   ]
  },
  {
   "cell_type": "markdown",
   "metadata": {},
   "source": [
    "#### 问题2（c）\n",
    "写一个函数来合并任何给定年份的`contries`和`income`数据集。"
   ]
  },
  {
   "cell_type": "code",
   "execution_count": 269,
   "metadata": {
    "collapsed": false
   },
   "outputs": [],
   "source": [
    "\"\"\"\n",
    "Function\n",
    "--------\n",
    "mergeByYear\n",
    "\n",
    "Return a merged DataFrame containing the income, \n",
    "country name and region for a given year. \n",
    "\n",
    "Parameters\n",
    "----------\n",
    "year : int\n",
    "    The year of interest\n",
    "\n",
    "Returns\n",
    "-------\n",
    "a DataFrame\n",
    "   A pandas DataFrame with three columns titled \n",
    "   'Country', 'Region', and 'Income'. \n",
    "\n",
    "Example\n",
    "-------\n",
    ">>> mergeByYear(2010)\n",
    "\"\"\"\n",
    "#your code here\n",
    "def mergeByYear(year=2010):\n",
    "    data = pd.DataFrame(income.loc[year].values, columns=['Income'])\n",
    "    data['Country'] = income.columns\n",
    "    joined = pd.merge(data, countries, on=['Country'])\n",
    "    joined.Income = np.round(joined.Income, 2)\n",
    "    return joined"
   ]
  },
  {
   "cell_type": "code",
   "execution_count": 270,
   "metadata": {
    "collapsed": false
   },
   "outputs": [
    {
     "data": {
      "text/html": [
       "<div>\n",
       "<table border=\"1\" class=\"dataframe\">\n",
       "  <thead>\n",
       "    <tr style=\"text-align: right;\">\n",
       "      <th></th>\n",
       "      <th>Income</th>\n",
       "      <th>Country</th>\n",
       "      <th>Region</th>\n",
       "    </tr>\n",
       "  </thead>\n",
       "  <tbody>\n",
       "    <tr>\n",
       "      <th>0</th>\n",
       "      <td>1637.0</td>\n",
       "      <td>Afghanistan</td>\n",
       "      <td>ASIA</td>\n",
       "    </tr>\n",
       "    <tr>\n",
       "      <th>1</th>\n",
       "      <td>9374.0</td>\n",
       "      <td>Albania</td>\n",
       "      <td>EUROPE</td>\n",
       "    </tr>\n",
       "    <tr>\n",
       "      <th>2</th>\n",
       "      <td>12494.0</td>\n",
       "      <td>Algeria</td>\n",
       "      <td>AFRICA</td>\n",
       "    </tr>\n",
       "    <tr>\n",
       "      <th>3</th>\n",
       "      <td>38982.0</td>\n",
       "      <td>Andorra</td>\n",
       "      <td>EUROPE</td>\n",
       "    </tr>\n",
       "    <tr>\n",
       "      <th>4</th>\n",
       "      <td>7047.0</td>\n",
       "      <td>Angola</td>\n",
       "      <td>AFRICA</td>\n",
       "    </tr>\n",
       "  </tbody>\n",
       "</table>\n",
       "</div>"
      ],
      "text/plain": [
       "    Income      Country  Region\n",
       "0   1637.0  Afghanistan    ASIA\n",
       "1   9374.0      Albania  EUROPE\n",
       "2  12494.0      Algeria  AFRICA\n",
       "3  38982.0      Andorra  EUROPE\n",
       "4   7047.0       Angola  AFRICA"
      ]
     },
     "execution_count": 270,
     "metadata": {},
     "output_type": "execute_result"
    }
   ],
   "source": [
    "mergeByYear(2010).head()"
   ]
  },
  {
   "cell_type": "markdown",
   "metadata": {},
   "source": [
    "#### 问题2（d）\n",
    "使用直方图和箱形图等探索性数据分析工具，从问题2（c）得到的区域数据集探索给定年份的人均收入的分布情况。描述近几年其变化如何？\n",
    "**Hint**: Use a `for` loop to consider multiple years.  "
   ]
  },
  {
   "cell_type": "code",
   "execution_count": 283,
   "metadata": {
    "collapsed": false
   },
   "outputs": [
    {
     "data": {
      "image/png": "[encoded data removed]",
      "text/plain": [
       "<matplotlib.figure.Figure at 0x117870b8>"
      ]
     },
     "metadata": {},
     "output_type": "display_data"
    },
    {
     "data": {
      "image/png": "[encoded data removed]",
      "text/plain": [
       "<matplotlib.figure.Figure at 0x10279550>"
      ]
     },
     "metadata": {},
     "output_type": "display_data"
    },
    {
     "data": {
      "image/png": "[encoded data removed]",
      "text/plain": [
       "<matplotlib.figure.Figure at 0x118aee80>"
      ]
     },
     "metadata": {},
     "output_type": "display_data"
    },
    {
     "data": {
      "image/png": "[encoded data removed]",
      "text/plain": [
       "<matplotlib.figure.Figure at 0x1188b7b8>"
      ]
     },
     "metadata": {},
     "output_type": "display_data"
    },
    {
     "data": {
      "image/png": "[encoded data removed]",
      "text/plain": [
       "<matplotlib.figure.Figure at 0x119dd9b0>"
      ]
     },
     "metadata": {},
     "output_type": "display_data"
    },
    {
     "data": {
      "image/png": "[encoded data removed]",
      "text/plain": [
       "<matplotlib.figure.Figure at 0x11af9ba8>"
      ]
     },
     "metadata": {},
     "output_type": "display_data"
    }
   ],
   "source": [
    "# your code here\n",
    "years = np.arange(1950, 2010, 10)\n",
    "\n",
    "for yr in years:\n",
    "    df = mergeByYear(yr)\n",
    "    df.boxplot('Income', by='Region', rot=90)\n",
    "    plt.title('Year: {}'.format(yr))\n",
    "    plt.ylabel('Income per person (log10 scale)')\n",
    "    plt.yscale('log')\n",
    "    plt.ylim(10**2, 10.5**5)"
   ]
  },
  {
   "cell_type": "markdown",
   "metadata": {},
   "source": [
    "## 问题2讨论：\n",
    "*对问题2和其中的任务进行一个简短的总结，大约100字左右*。\n",
    "在大多数大陆（尤其是非洲和亚洲），人均收入的分布非常的扭曲：大多数国家都处在低收入国家序列，高收入国家产生的胖尾巴在正整个20世纪都保持不变，即高收入国家持续高收入。\n",
    "\n",
    "在2（b）中，我们使用直方图来查看所有国家在给定年份的收入分布情况，观察到这是一个非正太分布。\n",
    "\n",
    "在2（d）中，我们使用线箱图仔细观察了十几年来按大陆划分的国家的收入分布情况。在整个20世纪，我们看到某些地区（如非洲）的人均收入呈现上升趋势。\n",
    "\n",
    "---"
   ]
  },
  {
   "cell_type": "markdown",
   "metadata": {},
   "source": [
    "## 问题3\n",
    "通常，如果A组的平均值比B组大，这是否意味着最大值来自A组？完成下面每个问题后进行讨论。"
   ]
  },
  {
   "cell_type": "markdown",
   "metadata": {},
   "source": [
    "#### 问题3（a）\n",
    "假设你有两个关于数字的列表X和Y，分布大致是正太分布。X和Y的标准差等于1，但是X的平均值与Y的平均值不同。如果X的平均值和Y的平均值之间的差大于0，则X > a的比例对比 Y > a的比例是多少？\n",
    "\n",
    "写一个函数，用来分析这两个比例的比例：Pr(X>a) / Pr(Y>a) 作为X的平均值和Y的平均值的差异的函数。\n",
    "\n",
    "**提示**：使用`scipy.stats`模块中用于与常规随机变量相关的有用函数，比如概率密度函数，累计分布函数和生存函数。\n",
    "\n",
    "**更新**：假设Y是均值为0的正太分布。\n",
    "\n",
    "展示a值不同时的曲线（a = 2,3,4,5）"
   ]
  },
  {
   "cell_type": "code",
   "execution_count": 288,
   "metadata": {
    "collapsed": false
   },
   "outputs": [],
   "source": [
    "\"\"\"\n",
    "Function\n",
    "--------\n",
    "ratioNormals\n",
    "\n",
    "Return ratio of these two proportions: \n",
    "    Pr(X > a)/Pr(Y > a) as function of \n",
    "    the difference in the average of X \n",
    "    and the average of Y. \n",
    "\n",
    "Parameters\n",
    "----------\n",
    "diff : difference in the average of X \n",
    "    and the average of Y. \n",
    "a : cutoff value\n",
    "\n",
    "Returns\n",
    "-------\n",
    "Returns ratio of these two proportions: \n",
    "    Pr(X > a)/Pr(Y > a)\n",
    "    \n",
    "Example\n",
    "-------\n",
    ">>> ratioNormals(diff = 1, a = 2)\n",
    "\"\"\"\n",
    "#your code here\n",
    "import scipy.stats\n",
    "def ratioNormals(diff=1, a=2):\n",
    "    X = scipy.stats.norm(loc=diff, scale=1)\n",
    "    Y = scipy.stats.norm(loc=0, scale=1)\n",
    "    return X.sf(a) / Y.sf(a)"
   ]
  },
  {
   "cell_type": "code",
   "execution_count": 290,
   "metadata": {
    "collapsed": false
   },
   "outputs": [
    {
     "data": {
      "image/png": "[encoded data removed]",
      "text/plain": [
       "<matplotlib.figure.Figure at 0x117384a8>"
      ]
     },
     "metadata": {},
     "output_type": "display_data"
    }
   ],
   "source": [
    "# your code here\n",
    "diffs = np.linspace(0, 5, 50)\n",
    "a_values = range(2, 6)\n",
    "\n",
    "plt.figure(figsize=(8,5))\n",
    "for a in a_values:\n",
    "    ratios = [ratioNormals(diff, a) for diff in diffs]\n",
    "    plt.plot(diffs, ratios)\n",
    "\n",
    "# Labels\n",
    "plt.legend(['a={}'.format(a) for a in a_values], loc=0)\n",
    "plt.xlabel('Diff');\n",
    "plt.ylabel('Pr(X>a) > Pr(Y>a)')\n",
    "plt.title('Ratio of Pr(X>a) to Pr(Y>a) as a Function of Diff')\n",
    "\n",
    "plt.yscale('log')"
   ]
  },
  {
   "cell_type": "markdown",
   "metadata": {},
   "source": [
    "#### 问题3（b）\n",
    "现在考虑两个地区的人均收入分布：亚洲和南美。估计这两个地区各国人均收入。在这两个地区里，哪个地区的各国人均收入的平均值更高？\n",
    "\n",
    "**更新**：使用2012年。"
   ]
  },
  {
   "cell_type": "code",
   "execution_count": 419,
   "metadata": {
    "collapsed": false
   },
   "outputs": [
    {
     "data": {
      "text/html": [
       "<div>\n",
       "<table border=\"1\" class=\"dataframe\">\n",
       "  <thead>\n",
       "    <tr style=\"text-align: right;\">\n",
       "      <th></th>\n",
       "      <th>Region</th>\n",
       "      <th>Income</th>\n",
       "    </tr>\n",
       "  </thead>\n",
       "  <tbody>\n",
       "    <tr>\n",
       "      <th>0</th>\n",
       "      <td>AFRICA</td>\n",
       "      <td>5511.220000</td>\n",
       "    </tr>\n",
       "    <tr>\n",
       "      <th>1</th>\n",
       "      <td>ASIA</td>\n",
       "      <td>22556.702703</td>\n",
       "    </tr>\n",
       "    <tr>\n",
       "      <th>2</th>\n",
       "      <td>EUROPE</td>\n",
       "      <td>30153.186047</td>\n",
       "    </tr>\n",
       "    <tr>\n",
       "      <th>3</th>\n",
       "      <td>NORTH AMERICA</td>\n",
       "      <td>15623.650000</td>\n",
       "    </tr>\n",
       "    <tr>\n",
       "      <th>4</th>\n",
       "      <td>OCEANIA</td>\n",
       "      <td>9815.461538</td>\n",
       "    </tr>\n",
       "  </tbody>\n",
       "</table>\n",
       "</div>"
      ],
      "text/plain": [
       "          Region        Income\n",
       "0         AFRICA   5511.220000\n",
       "1           ASIA  22556.702703\n",
       "2         EUROPE  30153.186047\n",
       "3  NORTH AMERICA  15623.650000\n",
       "4        OCEANIA   9815.461538"
      ]
     },
     "execution_count": 419,
     "metadata": {},
     "output_type": "execute_result"
    }
   ],
   "source": [
    "# your code here\n",
    "merged = mergeByYear(2010).groupby('Region', as_index=0).mean()\n",
    "merged.head()"
   ]
  },
  {
   "cell_type": "code",
   "execution_count": 420,
   "metadata": {
    "collapsed": false
   },
   "outputs": [
    {
     "data": {
      "text/html": [
       "<div>\n",
       "<table border=\"1\" class=\"dataframe\">\n",
       "  <thead>\n",
       "    <tr style=\"text-align: right;\">\n",
       "      <th></th>\n",
       "      <th>Region</th>\n",
       "      <th>Income</th>\n",
       "    </tr>\n",
       "  </thead>\n",
       "  <tbody>\n",
       "    <tr>\n",
       "      <th>1</th>\n",
       "      <td>ASIA</td>\n",
       "      <td>22556.702703</td>\n",
       "    </tr>\n",
       "    <tr>\n",
       "      <th>5</th>\n",
       "      <td>SOUTH AMERICA</td>\n",
       "      <td>12118.083333</td>\n",
       "    </tr>\n",
       "  </tbody>\n",
       "</table>\n",
       "</div>"
      ],
      "text/plain": [
       "          Region        Income\n",
       "1           ASIA  22556.702703\n",
       "5  SOUTH AMERICA  12118.083333"
      ]
     },
     "execution_count": 420,
     "metadata": {},
     "output_type": "execute_result"
    }
   ],
   "source": [
    "merged = merged.loc[(merged.Region == 'ASIA') | (merged.Region == 'SOUTH AMERICA')]\n",
    "merged.head()"
   ]
  },
  {
   "cell_type": "code",
   "execution_count": 421,
   "metadata": {
    "collapsed": false
   },
   "outputs": [
    {
     "data": {
      "text/html": [
       "<div>\n",
       "<table border=\"1\" class=\"dataframe\">\n",
       "  <thead>\n",
       "    <tr style=\"text-align: right;\">\n",
       "      <th></th>\n",
       "      <th>Region</th>\n",
       "      <th>Income</th>\n",
       "    </tr>\n",
       "  </thead>\n",
       "  <tbody>\n",
       "    <tr>\n",
       "      <th>1</th>\n",
       "      <td>ASIA</td>\n",
       "      <td>22556.70</td>\n",
       "    </tr>\n",
       "    <tr>\n",
       "      <th>5</th>\n",
       "      <td>SOUTH AMERICA</td>\n",
       "      <td>12118.08</td>\n",
       "    </tr>\n",
       "  </tbody>\n",
       "</table>\n",
       "</div>"
      ],
      "text/plain": [
       "          Region    Income\n",
       "1           ASIA  22556.70\n",
       "5  SOUTH AMERICA  12118.08"
      ]
     },
     "execution_count": 421,
     "metadata": {},
     "output_type": "execute_result"
    }
   ],
   "source": [
    "merged.Income = np.round(merged.Income, 2)\n",
    "merged"
   ]
  },
  {
   "cell_type": "markdown",
   "metadata": {},
   "source": [
    "可以看到在2012年，亚洲的平均收入要高于南美洲，下面可视化这个结果。"
   ]
  },
  {
   "cell_type": "code",
   "execution_count": 422,
   "metadata": {
    "collapsed": false
   },
   "outputs": [
    {
     "data": {
      "text/html": [
       "<div>\n",
       "<table border=\"1\" class=\"dataframe\">\n",
       "  <thead>\n",
       "    <tr style=\"text-align: right;\">\n",
       "      <th></th>\n",
       "      <th>Income</th>\n",
       "      <th>Country</th>\n",
       "      <th>Region</th>\n",
       "    </tr>\n",
       "  </thead>\n",
       "  <tbody>\n",
       "    <tr>\n",
       "      <th>0</th>\n",
       "      <td>1637.0</td>\n",
       "      <td>Afghanistan</td>\n",
       "      <td>ASIA</td>\n",
       "    </tr>\n",
       "    <tr>\n",
       "      <th>6</th>\n",
       "      <td>15765.0</td>\n",
       "      <td>Argentina</td>\n",
       "      <td>SOUTH AMERICA</td>\n",
       "    </tr>\n",
       "    <tr>\n",
       "      <th>12</th>\n",
       "      <td>40553.0</td>\n",
       "      <td>Bahrain</td>\n",
       "      <td>ASIA</td>\n",
       "    </tr>\n",
       "    <tr>\n",
       "      <th>13</th>\n",
       "      <td>2459.0</td>\n",
       "      <td>Bangladesh</td>\n",
       "      <td>ASIA</td>\n",
       "    </tr>\n",
       "    <tr>\n",
       "      <th>19</th>\n",
       "      <td>6516.0</td>\n",
       "      <td>Bhutan</td>\n",
       "      <td>ASIA</td>\n",
       "    </tr>\n",
       "  </tbody>\n",
       "</table>\n",
       "</div>"
      ],
      "text/plain": [
       "     Income      Country         Region\n",
       "0    1637.0  Afghanistan           ASIA\n",
       "6   15765.0    Argentina  SOUTH AMERICA\n",
       "12  40553.0      Bahrain           ASIA\n",
       "13   2459.0   Bangladesh           ASIA\n",
       "19   6516.0       Bhutan           ASIA"
      ]
     },
     "execution_count": 422,
     "metadata": {},
     "output_type": "execute_result"
    }
   ],
   "source": [
    "df = mergeByYear(2010)\n",
    "df = df.loc[(df.Region == 'ASIA') | (df.Region == 'SOUTH AMERICA')]\n",
    "df.head()"
   ]
  },
  {
   "cell_type": "code",
   "execution_count": 423,
   "metadata": {
    "collapsed": false
   },
   "outputs": [
    {
     "data": {
      "text/plain": [
       "<matplotlib.text.Text at 0x118dfeb8>"
      ]
     },
     "execution_count": 423,
     "metadata": {},
     "output_type": "execute_result"
    },
    {
     "data": {
      "image/png": "[encoded data removed]",
      "text/plain": [
       "<matplotlib.figure.Figure at 0x1176ab00>"
      ]
     },
     "metadata": {},
     "output_type": "display_data"
    }
   ],
   "source": [
    "df.boxplot('Income', by='Region')\n",
    "plt.ylabel('Income per person (dollars)')"
   ]
  },
  {
   "cell_type": "code",
   "execution_count": 424,
   "metadata": {
    "collapsed": false
   },
   "outputs": [
    {
     "data": {
      "image/png": "[encoded data removed]",
      "text/plain": [
       "<matplotlib.figure.Figure at 0xeaeed30>"
      ]
     },
     "metadata": {},
     "output_type": "display_data"
    }
   ],
   "source": [
    "df.boxplot('Income', by='Region')\n",
    "plt.ylabel('Income per person (log10 scale)')\n",
    "plt.yscale('log')"
   ]
  },
  {
   "cell_type": "markdown",
   "metadata": {},
   "source": [
    "#### 问题3（c）\n",
    "计算人均收入超过10,000美元的国家比例。哪个地区的人均收入大于10,000美元的国家的比例最高？如果这里的答案不同于问题3（b）中的答案，请根据你对问题3（a）的回答进行解释。\n",
    "**更新**：使用2012年。"
   ]
  },
  {
   "cell_type": "code",
   "execution_count": 425,
   "metadata": {
    "collapsed": true
   },
   "outputs": [],
   "source": [
    "def ratioCountries(groupedData, a):\n",
    "    prop = [len(group.Income[group.Income>a]) / float(len(group.Income.dropna())) for key, group in groupedData]\n",
    "    z = pd.DataFrame(groupedData.mean().index, columns=['Region'])\n",
    "    z['Mean'] = np.round(groupedData.mean().values, 2)\n",
    "    z['P(X > {})'.format(a)] = np.round(prop, 4)\n",
    "    return z"
   ]
  },
  {
   "cell_type": "code",
   "execution_count": 426,
   "metadata": {
    "collapsed": false
   },
   "outputs": [
    {
     "data": {
      "text/html": [
       "<div>\n",
       "<table border=\"1\" class=\"dataframe\">\n",
       "  <thead>\n",
       "    <tr style=\"text-align: right;\">\n",
       "      <th></th>\n",
       "      <th>Region</th>\n",
       "      <th>Mean</th>\n",
       "      <th>P(X &gt; 10000.0)</th>\n",
       "    </tr>\n",
       "  </thead>\n",
       "  <tbody>\n",
       "    <tr>\n",
       "      <th>0</th>\n",
       "      <td>AFRICA</td>\n",
       "      <td>5511.22</td>\n",
       "      <td>0.2000</td>\n",
       "    </tr>\n",
       "    <tr>\n",
       "      <th>1</th>\n",
       "      <td>ASIA</td>\n",
       "      <td>22556.70</td>\n",
       "      <td>0.5405</td>\n",
       "    </tr>\n",
       "    <tr>\n",
       "      <th>2</th>\n",
       "      <td>EUROPE</td>\n",
       "      <td>30153.19</td>\n",
       "      <td>0.8605</td>\n",
       "    </tr>\n",
       "    <tr>\n",
       "      <th>3</th>\n",
       "      <td>NORTH AMERICA</td>\n",
       "      <td>15623.65</td>\n",
       "      <td>0.6500</td>\n",
       "    </tr>\n",
       "    <tr>\n",
       "      <th>4</th>\n",
       "      <td>OCEANIA</td>\n",
       "      <td>9815.46</td>\n",
       "      <td>0.2308</td>\n",
       "    </tr>\n",
       "    <tr>\n",
       "      <th>5</th>\n",
       "      <td>SOUTH AMERICA</td>\n",
       "      <td>12118.08</td>\n",
       "      <td>0.5833</td>\n",
       "    </tr>\n",
       "  </tbody>\n",
       "</table>\n",
       "</div>"
      ],
      "text/plain": [
       "          Region      Mean  P(X > 10000.0)\n",
       "0         AFRICA   5511.22          0.2000\n",
       "1           ASIA  22556.70          0.5405\n",
       "2         EUROPE  30153.19          0.8605\n",
       "3  NORTH AMERICA  15623.65          0.6500\n",
       "4        OCEANIA   9815.46          0.2308\n",
       "5  SOUTH AMERICA  12118.08          0.5833"
      ]
     },
     "execution_count": 426,
     "metadata": {},
     "output_type": "execute_result"
    }
   ],
   "source": [
    "# your code here\n",
    "df = mergeByYear(2010).groupby('Region')\n",
    "df_ratio = ratioCountries(df, 1e4)\n",
    "df_ratio"
   ]
  },
  {
   "cell_type": "code",
   "execution_count": 427,
   "metadata": {
    "collapsed": false
   },
   "outputs": [
    {
     "data": {
      "text/html": [
       "<div>\n",
       "<table border=\"1\" class=\"dataframe\">\n",
       "  <thead>\n",
       "    <tr style=\"text-align: right;\">\n",
       "      <th></th>\n",
       "      <th>Region</th>\n",
       "      <th>Mean</th>\n",
       "      <th>P(X &gt; 10000.0)</th>\n",
       "    </tr>\n",
       "  </thead>\n",
       "  <tbody>\n",
       "    <tr>\n",
       "      <th>1</th>\n",
       "      <td>ASIA</td>\n",
       "      <td>22556.70</td>\n",
       "      <td>0.5405</td>\n",
       "    </tr>\n",
       "    <tr>\n",
       "      <th>5</th>\n",
       "      <td>SOUTH AMERICA</td>\n",
       "      <td>12118.08</td>\n",
       "      <td>0.5833</td>\n",
       "    </tr>\n",
       "  </tbody>\n",
       "</table>\n",
       "</div>"
      ],
      "text/plain": [
       "          Region      Mean  P(X > 10000.0)\n",
       "1           ASIA  22556.70          0.5405\n",
       "5  SOUTH AMERICA  12118.08          0.5833"
      ]
     },
     "execution_count": 427,
     "metadata": {},
     "output_type": "execute_result"
    }
   ],
   "source": [
    "df_ratio = df_ratio.loc[(df_ratio.Region == 'ASIA') | (df_ratio.Region == 'SOUTH AMERICA')]\n",
    "df_ratio"
   ]
  },
  {
   "cell_type": "markdown",
   "metadata": {},
   "source": [
    "南美国家比亚洲国家的人均收入大于10000美元的国家比例要高，这与3(b)中的答案不同。因为亚洲国家的收入分布不是正太分布，问题3（a）中的理论在这里不适用。"
   ]
  },
  {
   "cell_type": "markdown",
   "metadata": {},
   "source": [
    "#### 问题3 （d）\n",
    "对于AC209的学生：在问题3中重新进行分析，但是要先计算每个地区的人均收入，而不是使用该地区各国报告的人均收入。为什么这两种方法不同呢？提示：使用[此数据集](https://spreadsheets.google.com/pub?key=phAwcNAVuyj0XOoBL_n5tAQ&gid=0)。"
   ]
  },
  {
   "cell_type": "markdown",
   "metadata": {},
   "source": [
    "根据各国报告的人均收入，我们计算区域$j$的人均收入公式为：\n",
    "$$\\bar{S}_j = \\frac{1}{R_j}\\sum_{i=1}^{R_j} I_i$$\n",
    "\n",
    "现在，我们要根据各国的人口来重新算各区域的人均收入，那么现在计算区域$j$的人均收入公式为：\n",
    "$$ \\bar{S}_j = \\frac{S_1 + S_2 + \\ldots + S_{R_j}}{N_1 + N_2 + \\ldots + N_{R_j} } = \\frac{N_1 * I_1 + N_2 * I_2 + \\ldots + N_{R_j} * I_{R_j}}{N_1 + N_2 + \\ldots + N_{R_j} }$$\n",
    "\n"
   ]
  },
  {
   "cell_type": "code",
   "execution_count": 327,
   "metadata": {
    "collapsed": false
   },
   "outputs": [
    {
     "data": {
      "text/html": [
       "<div>\n",
       "<table border=\"1\" class=\"dataframe\">\n",
       "  <thead>\n",
       "    <tr style=\"text-align: right;\">\n",
       "      <th></th>\n",
       "      <th>Total population</th>\n",
       "      <th>1800</th>\n",
       "      <th>1810</th>\n",
       "      <th>1820</th>\n",
       "      <th>1830</th>\n",
       "      <th>1840</th>\n",
       "      <th>1850</th>\n",
       "      <th>1860</th>\n",
       "      <th>1870</th>\n",
       "      <th>1880</th>\n",
       "      <th>...</th>\n",
       "      <th>2006</th>\n",
       "      <th>2007</th>\n",
       "      <th>2008</th>\n",
       "      <th>2009</th>\n",
       "      <th>2010</th>\n",
       "      <th>2011</th>\n",
       "      <th>2012</th>\n",
       "      <th>2013</th>\n",
       "      <th>2014</th>\n",
       "      <th>2015</th>\n",
       "    </tr>\n",
       "  </thead>\n",
       "  <tbody>\n",
       "    <tr>\n",
       "      <th>0</th>\n",
       "      <td>Abkhazia</td>\n",
       "      <td>NaN</td>\n",
       "      <td>NaN</td>\n",
       "      <td>NaN</td>\n",
       "      <td>NaN</td>\n",
       "      <td>NaN</td>\n",
       "      <td>NaN</td>\n",
       "      <td>NaN</td>\n",
       "      <td>NaN</td>\n",
       "      <td>NaN</td>\n",
       "      <td>...</td>\n",
       "      <td>NaN</td>\n",
       "      <td>NaN</td>\n",
       "      <td>NaN</td>\n",
       "      <td>NaN</td>\n",
       "      <td>NaN</td>\n",
       "      <td>NaN</td>\n",
       "      <td>NaN</td>\n",
       "      <td>NaN</td>\n",
       "      <td>NaN</td>\n",
       "      <td>NaN</td>\n",
       "    </tr>\n",
       "    <tr>\n",
       "      <th>1</th>\n",
       "      <td>Afghanistan</td>\n",
       "      <td>3280000.0</td>\n",
       "      <td>3280000.0</td>\n",
       "      <td>3323519.0</td>\n",
       "      <td>3448982.0</td>\n",
       "      <td>3625022.0</td>\n",
       "      <td>3810047.0</td>\n",
       "      <td>3973968.0</td>\n",
       "      <td>4169690.0</td>\n",
       "      <td>4419695.0</td>\n",
       "      <td>...</td>\n",
       "      <td>25183615.0</td>\n",
       "      <td>25877544.0</td>\n",
       "      <td>26528741.0</td>\n",
       "      <td>27207291.0</td>\n",
       "      <td>27962207.0</td>\n",
       "      <td>28809167.0</td>\n",
       "      <td>29726803.0</td>\n",
       "      <td>30682500.0</td>\n",
       "      <td>31627506.0</td>\n",
       "      <td>32526562.0</td>\n",
       "    </tr>\n",
       "    <tr>\n",
       "      <th>2</th>\n",
       "      <td>Akrotiri and Dhekelia</td>\n",
       "      <td>NaN</td>\n",
       "      <td>NaN</td>\n",
       "      <td>NaN</td>\n",
       "      <td>NaN</td>\n",
       "      <td>NaN</td>\n",
       "      <td>NaN</td>\n",
       "      <td>NaN</td>\n",
       "      <td>NaN</td>\n",
       "      <td>NaN</td>\n",
       "      <td>...</td>\n",
       "      <td>15700.0</td>\n",
       "      <td>15700.0</td>\n",
       "      <td>15700.0</td>\n",
       "      <td>NaN</td>\n",
       "      <td>NaN</td>\n",
       "      <td>NaN</td>\n",
       "      <td>NaN</td>\n",
       "      <td>NaN</td>\n",
       "      <td>NaN</td>\n",
       "      <td>NaN</td>\n",
       "    </tr>\n",
       "    <tr>\n",
       "      <th>3</th>\n",
       "      <td>Albania</td>\n",
       "      <td>410445.0</td>\n",
       "      <td>423591.0</td>\n",
       "      <td>438671.0</td>\n",
       "      <td>457234.0</td>\n",
       "      <td>478227.0</td>\n",
       "      <td>506889.0</td>\n",
       "      <td>552800.0</td>\n",
       "      <td>610036.0</td>\n",
       "      <td>672544.0</td>\n",
       "      <td>...</td>\n",
       "      <td>3050741.0</td>\n",
       "      <td>3010849.0</td>\n",
       "      <td>2968026.0</td>\n",
       "      <td>2929886.0</td>\n",
       "      <td>2901883.0</td>\n",
       "      <td>2886010.0</td>\n",
       "      <td>2880667.0</td>\n",
       "      <td>2883281.0</td>\n",
       "      <td>2889676.0</td>\n",
       "      <td>2896679.0</td>\n",
       "    </tr>\n",
       "    <tr>\n",
       "      <th>4</th>\n",
       "      <td>Algeria</td>\n",
       "      <td>2503218.0</td>\n",
       "      <td>2595056.0</td>\n",
       "      <td>2713079.0</td>\n",
       "      <td>2880355.0</td>\n",
       "      <td>3082721.0</td>\n",
       "      <td>3299305.0</td>\n",
       "      <td>3536468.0</td>\n",
       "      <td>3811028.0</td>\n",
       "      <td>4143163.0</td>\n",
       "      <td>...</td>\n",
       "      <td>33749328.0</td>\n",
       "      <td>34261971.0</td>\n",
       "      <td>34811059.0</td>\n",
       "      <td>35401790.0</td>\n",
       "      <td>36036159.0</td>\n",
       "      <td>36717132.0</td>\n",
       "      <td>37439427.0</td>\n",
       "      <td>38186135.0</td>\n",
       "      <td>38934334.0</td>\n",
       "      <td>39666519.0</td>\n",
       "    </tr>\n",
       "  </tbody>\n",
       "</table>\n",
       "<p>5 rows × 82 columns</p>\n",
       "</div>"
      ],
      "text/plain": [
       "        Total population       1800       1810       1820       1830  \\\n",
       "0               Abkhazia        NaN        NaN        NaN        NaN   \n",
       "1            Afghanistan  3280000.0  3280000.0  3323519.0  3448982.0   \n",
       "2  Akrotiri and Dhekelia        NaN        NaN        NaN        NaN   \n",
       "3                Albania   410445.0   423591.0   438671.0   457234.0   \n",
       "4                Algeria  2503218.0  2595056.0  2713079.0  2880355.0   \n",
       "\n",
       "        1840       1850       1860       1870       1880     ...      \\\n",
       "0        NaN        NaN        NaN        NaN        NaN     ...       \n",
       "1  3625022.0  3810047.0  3973968.0  4169690.0  4419695.0     ...       \n",
       "2        NaN        NaN        NaN        NaN        NaN     ...       \n",
       "3   478227.0   506889.0   552800.0   610036.0   672544.0     ...       \n",
       "4  3082721.0  3299305.0  3536468.0  3811028.0  4143163.0     ...       \n",
       "\n",
       "         2006        2007        2008        2009        2010        2011  \\\n",
       "0         NaN         NaN         NaN         NaN         NaN         NaN   \n",
       "1  25183615.0  25877544.0  26528741.0  27207291.0  27962207.0  28809167.0   \n",
       "2     15700.0     15700.0     15700.0         NaN         NaN         NaN   \n",
       "3   3050741.0   3010849.0   2968026.0   2929886.0   2901883.0   2886010.0   \n",
       "4  33749328.0  34261971.0  34811059.0  35401790.0  36036159.0  36717132.0   \n",
       "\n",
       "         2012        2013        2014        2015  \n",
       "0         NaN         NaN         NaN         NaN  \n",
       "1  29726803.0  30682500.0  31627506.0  32526562.0  \n",
       "2         NaN         NaN         NaN         NaN  \n",
       "3   2880667.0   2883281.0   2889676.0   2896679.0  \n",
       "4  37439427.0  38186135.0  38934334.0  39666519.0  \n",
       "\n",
       "[5 rows x 82 columns]"
      ]
     },
     "execution_count": 327,
     "metadata": {},
     "output_type": "execute_result"
    }
   ],
   "source": [
    "# your code here\n",
    "path_income = 'indicator gapminder gdp_per_capita_ppp.xlsx'\n",
    "path_population = 'indicator gapminder population.xlsx'\n",
    "# path_population = 'indicator_total population with projections.xlsx'\n",
    "population = pd.read_excel(path_population, sheetname='Data')\n",
    "population.head()"
   ]
  },
  {
   "cell_type": "code",
   "execution_count": 332,
   "metadata": {
    "collapsed": false
   },
   "outputs": [
    {
     "data": {
      "text/html": [
       "<div>\n",
       "<table border=\"1\" class=\"dataframe\">\n",
       "  <thead>\n",
       "    <tr style=\"text-align: right;\">\n",
       "      <th></th>\n",
       "      <th>Country</th>\n",
       "      <th>1800</th>\n",
       "      <th>1810</th>\n",
       "      <th>1820</th>\n",
       "      <th>1830</th>\n",
       "      <th>1840</th>\n",
       "      <th>1850</th>\n",
       "      <th>1860</th>\n",
       "      <th>1870</th>\n",
       "      <th>1880</th>\n",
       "      <th>...</th>\n",
       "      <th>2006</th>\n",
       "      <th>2007</th>\n",
       "      <th>2008</th>\n",
       "      <th>2009</th>\n",
       "      <th>2010</th>\n",
       "      <th>2011</th>\n",
       "      <th>2012</th>\n",
       "      <th>2013</th>\n",
       "      <th>2014</th>\n",
       "      <th>2015</th>\n",
       "    </tr>\n",
       "  </thead>\n",
       "  <tbody>\n",
       "    <tr>\n",
       "      <th>0</th>\n",
       "      <td>Abkhazia</td>\n",
       "      <td>NaN</td>\n",
       "      <td>NaN</td>\n",
       "      <td>NaN</td>\n",
       "      <td>NaN</td>\n",
       "      <td>NaN</td>\n",
       "      <td>NaN</td>\n",
       "      <td>NaN</td>\n",
       "      <td>NaN</td>\n",
       "      <td>NaN</td>\n",
       "      <td>...</td>\n",
       "      <td>NaN</td>\n",
       "      <td>NaN</td>\n",
       "      <td>NaN</td>\n",
       "      <td>NaN</td>\n",
       "      <td>NaN</td>\n",
       "      <td>NaN</td>\n",
       "      <td>NaN</td>\n",
       "      <td>NaN</td>\n",
       "      <td>NaN</td>\n",
       "      <td>NaN</td>\n",
       "    </tr>\n",
       "    <tr>\n",
       "      <th>1</th>\n",
       "      <td>Afghanistan</td>\n",
       "      <td>3280000.0</td>\n",
       "      <td>3280000.0</td>\n",
       "      <td>3323519.0</td>\n",
       "      <td>3448982.0</td>\n",
       "      <td>3625022.0</td>\n",
       "      <td>3810047.0</td>\n",
       "      <td>3973968.0</td>\n",
       "      <td>4169690.0</td>\n",
       "      <td>4419695.0</td>\n",
       "      <td>...</td>\n",
       "      <td>25183615.0</td>\n",
       "      <td>25877544.0</td>\n",
       "      <td>26528741.0</td>\n",
       "      <td>27207291.0</td>\n",
       "      <td>27962207.0</td>\n",
       "      <td>28809167.0</td>\n",
       "      <td>29726803.0</td>\n",
       "      <td>30682500.0</td>\n",
       "      <td>31627506.0</td>\n",
       "      <td>32526562.0</td>\n",
       "    </tr>\n",
       "    <tr>\n",
       "      <th>2</th>\n",
       "      <td>Akrotiri and Dhekelia</td>\n",
       "      <td>NaN</td>\n",
       "      <td>NaN</td>\n",
       "      <td>NaN</td>\n",
       "      <td>NaN</td>\n",
       "      <td>NaN</td>\n",
       "      <td>NaN</td>\n",
       "      <td>NaN</td>\n",
       "      <td>NaN</td>\n",
       "      <td>NaN</td>\n",
       "      <td>...</td>\n",
       "      <td>15700.0</td>\n",
       "      <td>15700.0</td>\n",
       "      <td>15700.0</td>\n",
       "      <td>NaN</td>\n",
       "      <td>NaN</td>\n",
       "      <td>NaN</td>\n",
       "      <td>NaN</td>\n",
       "      <td>NaN</td>\n",
       "      <td>NaN</td>\n",
       "      <td>NaN</td>\n",
       "    </tr>\n",
       "    <tr>\n",
       "      <th>3</th>\n",
       "      <td>Albania</td>\n",
       "      <td>410445.0</td>\n",
       "      <td>423591.0</td>\n",
       "      <td>438671.0</td>\n",
       "      <td>457234.0</td>\n",
       "      <td>478227.0</td>\n",
       "      <td>506889.0</td>\n",
       "      <td>552800.0</td>\n",
       "      <td>610036.0</td>\n",
       "      <td>672544.0</td>\n",
       "      <td>...</td>\n",
       "      <td>3050741.0</td>\n",
       "      <td>3010849.0</td>\n",
       "      <td>2968026.0</td>\n",
       "      <td>2929886.0</td>\n",
       "      <td>2901883.0</td>\n",
       "      <td>2886010.0</td>\n",
       "      <td>2880667.0</td>\n",
       "      <td>2883281.0</td>\n",
       "      <td>2889676.0</td>\n",
       "      <td>2896679.0</td>\n",
       "    </tr>\n",
       "    <tr>\n",
       "      <th>4</th>\n",
       "      <td>Algeria</td>\n",
       "      <td>2503218.0</td>\n",
       "      <td>2595056.0</td>\n",
       "      <td>2713079.0</td>\n",
       "      <td>2880355.0</td>\n",
       "      <td>3082721.0</td>\n",
       "      <td>3299305.0</td>\n",
       "      <td>3536468.0</td>\n",
       "      <td>3811028.0</td>\n",
       "      <td>4143163.0</td>\n",
       "      <td>...</td>\n",
       "      <td>33749328.0</td>\n",
       "      <td>34261971.0</td>\n",
       "      <td>34811059.0</td>\n",
       "      <td>35401790.0</td>\n",
       "      <td>36036159.0</td>\n",
       "      <td>36717132.0</td>\n",
       "      <td>37439427.0</td>\n",
       "      <td>38186135.0</td>\n",
       "      <td>38934334.0</td>\n",
       "      <td>39666519.0</td>\n",
       "    </tr>\n",
       "  </tbody>\n",
       "</table>\n",
       "<p>5 rows × 82 columns</p>\n",
       "</div>"
      ],
      "text/plain": [
       "                 Country       1800       1810       1820       1830  \\\n",
       "0               Abkhazia        NaN        NaN        NaN        NaN   \n",
       "1            Afghanistan  3280000.0  3280000.0  3323519.0  3448982.0   \n",
       "2  Akrotiri and Dhekelia        NaN        NaN        NaN        NaN   \n",
       "3                Albania   410445.0   423591.0   438671.0   457234.0   \n",
       "4                Algeria  2503218.0  2595056.0  2713079.0  2880355.0   \n",
       "\n",
       "        1840       1850       1860       1870       1880     ...      \\\n",
       "0        NaN        NaN        NaN        NaN        NaN     ...       \n",
       "1  3625022.0  3810047.0  3973968.0  4169690.0  4419695.0     ...       \n",
       "2        NaN        NaN        NaN        NaN        NaN     ...       \n",
       "3   478227.0   506889.0   552800.0   610036.0   672544.0     ...       \n",
       "4  3082721.0  3299305.0  3536468.0  3811028.0  4143163.0     ...       \n",
       "\n",
       "         2006        2007        2008        2009        2010        2011  \\\n",
       "0         NaN         NaN         NaN         NaN         NaN         NaN   \n",
       "1  25183615.0  25877544.0  26528741.0  27207291.0  27962207.0  28809167.0   \n",
       "2     15700.0     15700.0     15700.0         NaN         NaN         NaN   \n",
       "3   3050741.0   3010849.0   2968026.0   2929886.0   2901883.0   2886010.0   \n",
       "4  33749328.0  34261971.0  34811059.0  35401790.0  36036159.0  36717132.0   \n",
       "\n",
       "         2012        2013        2014        2015  \n",
       "0         NaN         NaN         NaN         NaN  \n",
       "1  29726803.0  30682500.0  31627506.0  32526562.0  \n",
       "2         NaN         NaN         NaN         NaN  \n",
       "3   2880667.0   2883281.0   2889676.0   2896679.0  \n",
       "4  37439427.0  38186135.0  38934334.0  39666519.0  \n",
       "\n",
       "[5 rows x 82 columns]"
      ]
     },
     "execution_count": 332,
     "metadata": {},
     "output_type": "execute_result"
    }
   ],
   "source": [
    "# Put years as index and countries as column names\n",
    "population.columns = ['Country'] + list(map(int, list(population.columns)[1:]))\n",
    "population.head()"
   ]
  },
  {
   "cell_type": "markdown",
   "metadata": {},
   "source": [
    "根据上式，我们首先创建一个方程`mergeByYear()`，其中包括国家、国家所属区域、国家人口数。"
   ]
  },
  {
   "cell_type": "code",
   "execution_count": 348,
   "metadata": {
    "collapsed": false
   },
   "outputs": [
    {
     "data": {
      "text/html": [
       "<div>\n",
       "<table border=\"1\" class=\"dataframe\">\n",
       "  <thead>\n",
       "    <tr style=\"text-align: right;\">\n",
       "      <th>GDP per capita</th>\n",
       "      <th>Abkhazia</th>\n",
       "      <th>Afghanistan</th>\n",
       "      <th>Akrotiri and Dhekelia</th>\n",
       "      <th>Albania</th>\n",
       "      <th>Algeria</th>\n",
       "      <th>American Samoa</th>\n",
       "      <th>Andorra</th>\n",
       "      <th>Angola</th>\n",
       "      <th>Anguilla</th>\n",
       "      <th>Antigua and Barbuda</th>\n",
       "      <th>...</th>\n",
       "      <th>North Yemen (former)</th>\n",
       "      <th>South Yemen (former)</th>\n",
       "      <th>Yemen</th>\n",
       "      <th>Yugoslavia</th>\n",
       "      <th>Zambia</th>\n",
       "      <th>Zimbabwe</th>\n",
       "      <th>Åland</th>\n",
       "      <th>South Sudan</th>\n",
       "      <th>nan</th>\n",
       "      <th>nan</th>\n",
       "    </tr>\n",
       "  </thead>\n",
       "  <tbody>\n",
       "    <tr>\n",
       "      <th>1800</th>\n",
       "      <td>NaN</td>\n",
       "      <td>603.0</td>\n",
       "      <td>NaN</td>\n",
       "      <td>667.0</td>\n",
       "      <td>716.0</td>\n",
       "      <td>NaN</td>\n",
       "      <td>1197.0</td>\n",
       "      <td>618.0</td>\n",
       "      <td>NaN</td>\n",
       "      <td>757.0</td>\n",
       "      <td>...</td>\n",
       "      <td>NaN</td>\n",
       "      <td>NaN</td>\n",
       "      <td>877.0</td>\n",
       "      <td>NaN</td>\n",
       "      <td>663.0</td>\n",
       "      <td>869.0</td>\n",
       "      <td>NaN</td>\n",
       "      <td>507.0</td>\n",
       "      <td>NaN</td>\n",
       "      <td>NaN</td>\n",
       "    </tr>\n",
       "    <tr>\n",
       "      <th>1801</th>\n",
       "      <td>NaN</td>\n",
       "      <td>603.0</td>\n",
       "      <td>NaN</td>\n",
       "      <td>667.0</td>\n",
       "      <td>716.0</td>\n",
       "      <td>NaN</td>\n",
       "      <td>1199.0</td>\n",
       "      <td>620.0</td>\n",
       "      <td>NaN</td>\n",
       "      <td>757.0</td>\n",
       "      <td>...</td>\n",
       "      <td>NaN</td>\n",
       "      <td>NaN</td>\n",
       "      <td>879.0</td>\n",
       "      <td>NaN</td>\n",
       "      <td>665.0</td>\n",
       "      <td>870.0</td>\n",
       "      <td>NaN</td>\n",
       "      <td>507.0</td>\n",
       "      <td>NaN</td>\n",
       "      <td>NaN</td>\n",
       "    </tr>\n",
       "    <tr>\n",
       "      <th>1802</th>\n",
       "      <td>NaN</td>\n",
       "      <td>603.0</td>\n",
       "      <td>NaN</td>\n",
       "      <td>668.0</td>\n",
       "      <td>717.0</td>\n",
       "      <td>NaN</td>\n",
       "      <td>1201.0</td>\n",
       "      <td>623.0</td>\n",
       "      <td>NaN</td>\n",
       "      <td>757.0</td>\n",
       "      <td>...</td>\n",
       "      <td>NaN</td>\n",
       "      <td>NaN</td>\n",
       "      <td>882.0</td>\n",
       "      <td>NaN</td>\n",
       "      <td>667.0</td>\n",
       "      <td>871.0</td>\n",
       "      <td>NaN</td>\n",
       "      <td>507.0</td>\n",
       "      <td>NaN</td>\n",
       "      <td>NaN</td>\n",
       "    </tr>\n",
       "    <tr>\n",
       "      <th>1803</th>\n",
       "      <td>NaN</td>\n",
       "      <td>603.0</td>\n",
       "      <td>NaN</td>\n",
       "      <td>668.0</td>\n",
       "      <td>718.0</td>\n",
       "      <td>NaN</td>\n",
       "      <td>1204.0</td>\n",
       "      <td>626.0</td>\n",
       "      <td>NaN</td>\n",
       "      <td>757.0</td>\n",
       "      <td>...</td>\n",
       "      <td>NaN</td>\n",
       "      <td>NaN</td>\n",
       "      <td>884.0</td>\n",
       "      <td>NaN</td>\n",
       "      <td>668.0</td>\n",
       "      <td>872.0</td>\n",
       "      <td>NaN</td>\n",
       "      <td>507.0</td>\n",
       "      <td>NaN</td>\n",
       "      <td>NaN</td>\n",
       "    </tr>\n",
       "    <tr>\n",
       "      <th>1804</th>\n",
       "      <td>NaN</td>\n",
       "      <td>603.0</td>\n",
       "      <td>NaN</td>\n",
       "      <td>668.0</td>\n",
       "      <td>719.0</td>\n",
       "      <td>NaN</td>\n",
       "      <td>1206.0</td>\n",
       "      <td>628.0</td>\n",
       "      <td>NaN</td>\n",
       "      <td>757.0</td>\n",
       "      <td>...</td>\n",
       "      <td>NaN</td>\n",
       "      <td>NaN</td>\n",
       "      <td>887.0</td>\n",
       "      <td>NaN</td>\n",
       "      <td>670.0</td>\n",
       "      <td>873.0</td>\n",
       "      <td>NaN</td>\n",
       "      <td>508.0</td>\n",
       "      <td>NaN</td>\n",
       "      <td>NaN</td>\n",
       "    </tr>\n",
       "  </tbody>\n",
       "</table>\n",
       "<p>5 rows × 262 columns</p>\n",
       "</div>"
      ],
      "text/plain": [
       "GDP per capita  Abkhazia  Afghanistan  Akrotiri and Dhekelia  Albania  \\\n",
       "1800                 NaN        603.0                    NaN    667.0   \n",
       "1801                 NaN        603.0                    NaN    667.0   \n",
       "1802                 NaN        603.0                    NaN    668.0   \n",
       "1803                 NaN        603.0                    NaN    668.0   \n",
       "1804                 NaN        603.0                    NaN    668.0   \n",
       "\n",
       "GDP per capita  Algeria  American Samoa  Andorra  Angola  Anguilla  \\\n",
       "1800              716.0             NaN   1197.0   618.0       NaN   \n",
       "1801              716.0             NaN   1199.0   620.0       NaN   \n",
       "1802              717.0             NaN   1201.0   623.0       NaN   \n",
       "1803              718.0             NaN   1204.0   626.0       NaN   \n",
       "1804              719.0             NaN   1206.0   628.0       NaN   \n",
       "\n",
       "GDP per capita  Antigua and Barbuda ...   North Yemen (former)  \\\n",
       "1800                          757.0 ...                    NaN   \n",
       "1801                          757.0 ...                    NaN   \n",
       "1802                          757.0 ...                    NaN   \n",
       "1803                          757.0 ...                    NaN   \n",
       "1804                          757.0 ...                    NaN   \n",
       "\n",
       "GDP per capita  South Yemen (former)  Yemen  Yugoslavia  Zambia  Zimbabwe  \\\n",
       "1800                             NaN  877.0         NaN   663.0     869.0   \n",
       "1801                             NaN  879.0         NaN   665.0     870.0   \n",
       "1802                             NaN  882.0         NaN   667.0     871.0   \n",
       "1803                             NaN  884.0         NaN   668.0     872.0   \n",
       "1804                             NaN  887.0         NaN   670.0     873.0   \n",
       "\n",
       "GDP per capita  Åland  South Sudan  NaN  NaN  \n",
       "1800              NaN        507.0  NaN  NaN  \n",
       "1801              NaN        507.0  NaN  NaN  \n",
       "1802              NaN        507.0  NaN  NaN  \n",
       "1803              NaN        507.0  NaN  NaN  \n",
       "1804              NaN        508.0  NaN  NaN  \n",
       "\n",
       "[5 rows x 262 columns]"
      ]
     },
     "execution_count": 348,
     "metadata": {},
     "output_type": "execute_result"
    }
   ],
   "source": [
    "income.head()"
   ]
  },
  {
   "cell_type": "code",
   "execution_count": 398,
   "metadata": {
    "collapsed": true
   },
   "outputs": [],
   "source": [
    "import pdb"
   ]
  },
  {
   "cell_type": "code",
   "execution_count": 403,
   "metadata": {
    "collapsed": false
   },
   "outputs": [],
   "source": [
    "def mergeByYearWithPop(year):\n",
    "    \n",
    "    # income DataFrame\n",
    "    income_df = pd.DataFrame(income.loc[year].values, columns=['Income'])\n",
    "    income_df['Country'] = income.columns\n",
    "\n",
    "    # merge income DataFrame and countires\n",
    "    joined = pd.merge(income_df, countries, how='inner', on=['Country'])\n",
    "    \n",
    "    # population DataFrame\n",
    "    population_df = population[['Country', year]]\n",
    "\n",
    "    # merge population DataFrame and joined DataFrame\n",
    "    joined = pd.merge(joined, population_df, how='inner', on='Country')\n",
    "    joined.columns = list(joined.columns[:-1]) + ['TotalPopulation']  # 将列名从年份换为总人口数\n",
    "    joined.Income = np.round(joined.Income, 2)\n",
    "    \n",
    "    def func(df):\n",
    "#         pdb.set_trace()\n",
    "        totPop = df['TotalPopulation'].sum()\n",
    "        dfout = df\n",
    "        dfout['AdjustedIncome'] = df.Income * df.TotalPopulation / float(totPop)\n",
    "        dfout.AdjustedIncome = np.round(dfout.AdjustedIncome, 2)\n",
    "        return dfout\n",
    "        \n",
    "    # Group by region\n",
    "    returnDataFrame = joined.groupby('Region').apply(func)\n",
    "        \n",
    "    return returnDataFrame"
   ]
  },
  {
   "cell_type": "code",
   "execution_count": 404,
   "metadata": {
    "collapsed": false
   },
   "outputs": [
    {
     "data": {
      "text/html": [
       "<div>\n",
       "<table border=\"1\" class=\"dataframe\">\n",
       "  <thead>\n",
       "    <tr style=\"text-align: right;\">\n",
       "      <th></th>\n",
       "      <th>Income</th>\n",
       "      <th>Country</th>\n",
       "      <th>Region</th>\n",
       "      <th>TotalPopulation</th>\n",
       "      <th>AdjustedIncome</th>\n",
       "    </tr>\n",
       "  </thead>\n",
       "  <tbody>\n",
       "    <tr>\n",
       "      <th>0</th>\n",
       "      <td>1637.0</td>\n",
       "      <td>Afghanistan</td>\n",
       "      <td>ASIA</td>\n",
       "      <td>27962207.0</td>\n",
       "      <td>11.50</td>\n",
       "    </tr>\n",
       "    <tr>\n",
       "      <th>1</th>\n",
       "      <td>9374.0</td>\n",
       "      <td>Albania</td>\n",
       "      <td>EUROPE</td>\n",
       "      <td>2901883.0</td>\n",
       "      <td>45.20</td>\n",
       "    </tr>\n",
       "    <tr>\n",
       "      <th>2</th>\n",
       "      <td>12494.0</td>\n",
       "      <td>Algeria</td>\n",
       "      <td>AFRICA</td>\n",
       "      <td>36036159.0</td>\n",
       "      <td>480.62</td>\n",
       "    </tr>\n",
       "    <tr>\n",
       "      <th>3</th>\n",
       "      <td>38982.0</td>\n",
       "      <td>Andorra</td>\n",
       "      <td>EUROPE</td>\n",
       "      <td>84419.0</td>\n",
       "      <td>5.47</td>\n",
       "    </tr>\n",
       "    <tr>\n",
       "      <th>4</th>\n",
       "      <td>7047.0</td>\n",
       "      <td>Angola</td>\n",
       "      <td>AFRICA</td>\n",
       "      <td>21219954.0</td>\n",
       "      <td>159.63</td>\n",
       "    </tr>\n",
       "  </tbody>\n",
       "</table>\n",
       "</div>"
      ],
      "text/plain": [
       "    Income      Country  Region  TotalPopulation  AdjustedIncome\n",
       "0   1637.0  Afghanistan    ASIA       27962207.0           11.50\n",
       "1   9374.0      Albania  EUROPE        2901883.0           45.20\n",
       "2  12494.0      Algeria  AFRICA       36036159.0          480.62\n",
       "3  38982.0      Andorra  EUROPE          84419.0            5.47\n",
       "4   7047.0       Angola  AFRICA       21219954.0          159.63"
      ]
     },
     "execution_count": 404,
     "metadata": {},
     "output_type": "execute_result"
    }
   ],
   "source": [
    "mergeByYearWithPop(2010).head()"
   ]
  },
  {
   "cell_type": "code",
   "execution_count": 428,
   "metadata": {
    "collapsed": false
   },
   "outputs": [
    {
     "data": {
      "text/html": [
       "<div>\n",
       "<table border=\"1\" class=\"dataframe\">\n",
       "  <thead>\n",
       "    <tr style=\"text-align: right;\">\n",
       "      <th></th>\n",
       "      <th>Income</th>\n",
       "      <th>TotalPopulation</th>\n",
       "      <th>AdjustedIncome</th>\n",
       "    </tr>\n",
       "    <tr>\n",
       "      <th>Region</th>\n",
       "      <th></th>\n",
       "      <th></th>\n",
       "      <th></th>\n",
       "    </tr>\n",
       "  </thead>\n",
       "  <tbody>\n",
       "    <tr>\n",
       "      <th>AFRICA</th>\n",
       "      <td>275561.0</td>\n",
       "      <td>9.367828e+08</td>\n",
       "      <td>4807.12</td>\n",
       "    </tr>\n",
       "    <tr>\n",
       "      <th>ASIA</th>\n",
       "      <td>834598.0</td>\n",
       "      <td>3.979540e+09</td>\n",
       "      <td>8842.02</td>\n",
       "    </tr>\n",
       "    <tr>\n",
       "      <th>EUROPE</th>\n",
       "      <td>1296587.0</td>\n",
       "      <td>6.018607e+08</td>\n",
       "      <td>30856.54</td>\n",
       "    </tr>\n",
       "    <tr>\n",
       "      <th>NORTH AMERICA</th>\n",
       "      <td>312473.0</td>\n",
       "      <td>5.412980e+08</td>\n",
       "      <td>35560.28</td>\n",
       "    </tr>\n",
       "    <tr>\n",
       "      <th>OCEANIA</th>\n",
       "      <td>127601.0</td>\n",
       "      <td>3.548721e+07</td>\n",
       "      <td>30428.97</td>\n",
       "    </tr>\n",
       "  </tbody>\n",
       "</table>\n",
       "</div>"
      ],
      "text/plain": [
       "                  Income  TotalPopulation  AdjustedIncome\n",
       "Region                                                   \n",
       "AFRICA          275561.0     9.367828e+08         4807.12\n",
       "ASIA            834598.0     3.979540e+09         8842.02\n",
       "EUROPE         1296587.0     6.018607e+08        30856.54\n",
       "NORTH AMERICA   312473.0     5.412980e+08        35560.28\n",
       "OCEANIA         127601.0     3.548721e+07        30428.97"
      ]
     },
     "execution_count": 428,
     "metadata": {},
     "output_type": "execute_result"
    }
   ],
   "source": [
    "df = mergeByYearWithPop(2010).groupby('Region').sum()  # 得到根据人口算出的区域人均收入，但是注意原来的区域人均收入需要重新赋值\n",
    "df.head()"
   ]
  },
  {
   "cell_type": "code",
   "execution_count": 429,
   "metadata": {
    "collapsed": false
   },
   "outputs": [
    {
     "data": {
      "text/html": [
       "<div>\n",
       "<table border=\"1\" class=\"dataframe\">\n",
       "  <thead>\n",
       "    <tr style=\"text-align: right;\">\n",
       "      <th></th>\n",
       "      <th>Income</th>\n",
       "      <th>TotalPopulation</th>\n",
       "      <th>AdjustedIncome</th>\n",
       "    </tr>\n",
       "    <tr>\n",
       "      <th>Region</th>\n",
       "      <th></th>\n",
       "      <th></th>\n",
       "      <th></th>\n",
       "    </tr>\n",
       "  </thead>\n",
       "  <tbody>\n",
       "    <tr>\n",
       "      <th>AFRICA</th>\n",
       "      <td>5511.220000</td>\n",
       "      <td>9.367828e+08</td>\n",
       "      <td>4807.12</td>\n",
       "    </tr>\n",
       "    <tr>\n",
       "      <th>ASIA</th>\n",
       "      <td>22556.702703</td>\n",
       "      <td>3.979540e+09</td>\n",
       "      <td>8842.02</td>\n",
       "    </tr>\n",
       "    <tr>\n",
       "      <th>EUROPE</th>\n",
       "      <td>30153.186047</td>\n",
       "      <td>6.018607e+08</td>\n",
       "      <td>30856.54</td>\n",
       "    </tr>\n",
       "    <tr>\n",
       "      <th>NORTH AMERICA</th>\n",
       "      <td>15623.650000</td>\n",
       "      <td>5.412980e+08</td>\n",
       "      <td>35560.28</td>\n",
       "    </tr>\n",
       "    <tr>\n",
       "      <th>OCEANIA</th>\n",
       "      <td>9815.461538</td>\n",
       "      <td>3.548721e+07</td>\n",
       "      <td>30428.97</td>\n",
       "    </tr>\n",
       "  </tbody>\n",
       "</table>\n",
       "</div>"
      ],
      "text/plain": [
       "                     Income  TotalPopulation  AdjustedIncome\n",
       "Region                                                      \n",
       "AFRICA          5511.220000     9.367828e+08         4807.12\n",
       "ASIA           22556.702703     3.979540e+09         8842.02\n",
       "EUROPE         30153.186047     6.018607e+08        30856.54\n",
       "NORTH AMERICA  15623.650000     5.412980e+08        35560.28\n",
       "OCEANIA         9815.461538     3.548721e+07        30428.97"
      ]
     },
     "execution_count": 429,
     "metadata": {},
     "output_type": "execute_result"
    }
   ],
   "source": [
    "df.Income = mergeByYear(2010).groupby('Region').mean().Income\n",
    "df.head()"
   ]
  },
  {
   "cell_type": "code",
   "execution_count": 430,
   "metadata": {
    "collapsed": false
   },
   "outputs": [
    {
     "data": {
      "text/html": [
       "<div>\n",
       "<table border=\"1\" class=\"dataframe\">\n",
       "  <thead>\n",
       "    <tr style=\"text-align: right;\">\n",
       "      <th></th>\n",
       "      <th>Income</th>\n",
       "      <th>TotalPopulation</th>\n",
       "      <th>AdjustedIncome</th>\n",
       "    </tr>\n",
       "    <tr>\n",
       "      <th>Region</th>\n",
       "      <th></th>\n",
       "      <th></th>\n",
       "      <th></th>\n",
       "    </tr>\n",
       "  </thead>\n",
       "  <tbody>\n",
       "    <tr>\n",
       "      <th>AFRICA</th>\n",
       "      <td>5511.22</td>\n",
       "      <td>9.367828e+08</td>\n",
       "      <td>4807.12</td>\n",
       "    </tr>\n",
       "    <tr>\n",
       "      <th>ASIA</th>\n",
       "      <td>22556.70</td>\n",
       "      <td>3.979540e+09</td>\n",
       "      <td>8842.02</td>\n",
       "    </tr>\n",
       "    <tr>\n",
       "      <th>EUROPE</th>\n",
       "      <td>30153.19</td>\n",
       "      <td>6.018607e+08</td>\n",
       "      <td>30856.54</td>\n",
       "    </tr>\n",
       "    <tr>\n",
       "      <th>NORTH AMERICA</th>\n",
       "      <td>15623.65</td>\n",
       "      <td>5.412980e+08</td>\n",
       "      <td>35560.28</td>\n",
       "    </tr>\n",
       "    <tr>\n",
       "      <th>OCEANIA</th>\n",
       "      <td>9815.46</td>\n",
       "      <td>3.548721e+07</td>\n",
       "      <td>30428.97</td>\n",
       "    </tr>\n",
       "  </tbody>\n",
       "</table>\n",
       "</div>"
      ],
      "text/plain": [
       "                 Income  TotalPopulation  AdjustedIncome\n",
       "Region                                                  \n",
       "AFRICA          5511.22     9.367828e+08         4807.12\n",
       "ASIA           22556.70     3.979540e+09         8842.02\n",
       "EUROPE         30153.19     6.018607e+08        30856.54\n",
       "NORTH AMERICA  15623.65     5.412980e+08        35560.28\n",
       "OCEANIA         9815.46     3.548721e+07        30428.97"
      ]
     },
     "execution_count": 430,
     "metadata": {},
     "output_type": "execute_result"
    }
   ],
   "source": [
    "df.Income = np.round(df.Income, 2)\n",
    "df.head()"
   ]
  },
  {
   "cell_type": "code",
   "execution_count": 431,
   "metadata": {
    "collapsed": false
   },
   "outputs": [
    {
     "data": {
      "text/html": [
       "<div>\n",
       "<table border=\"1\" class=\"dataframe\">\n",
       "  <thead>\n",
       "    <tr style=\"text-align: right;\">\n",
       "      <th></th>\n",
       "      <th>Income</th>\n",
       "      <th>TotalPopulation</th>\n",
       "      <th>AdjustedIncome</th>\n",
       "    </tr>\n",
       "    <tr>\n",
       "      <th>Region</th>\n",
       "      <th></th>\n",
       "      <th></th>\n",
       "      <th></th>\n",
       "    </tr>\n",
       "  </thead>\n",
       "  <tbody>\n",
       "    <tr>\n",
       "      <th>ASIA</th>\n",
       "      <td>22556.70</td>\n",
       "      <td>3.979540e+09</td>\n",
       "      <td>8842.02</td>\n",
       "    </tr>\n",
       "    <tr>\n",
       "      <th>SOUTH AMERICA</th>\n",
       "      <td>12118.08</td>\n",
       "      <td>3.968484e+08</td>\n",
       "      <td>13753.63</td>\n",
       "    </tr>\n",
       "  </tbody>\n",
       "</table>\n",
       "</div>"
      ],
      "text/plain": [
       "                 Income  TotalPopulation  AdjustedIncome\n",
       "Region                                                  \n",
       "ASIA           22556.70     3.979540e+09         8842.02\n",
       "SOUTH AMERICA  12118.08     3.968484e+08        13753.63"
      ]
     },
     "execution_count": 431,
     "metadata": {},
     "output_type": "execute_result"
    }
   ],
   "source": [
    "df = df.loc[['ASIA', 'SOUTH AMERICA']]\n",
    "df"
   ]
  },
  {
   "cell_type": "markdown",
   "metadata": {},
   "source": [
    "第一列同3（b）中的一样（即没有根据人口调整人均收入），第二列是区域对应的总人口数，最后一列是对应区域的平均人均收入。可以看到亚洲的人均收入差别很大，说明人口数量产生了很大的影响。\n",
    "\n",
    "为了和3(b)对比，我们画出给定区域中人均收入。"
   ]
  },
  {
   "cell_type": "code",
   "execution_count": 412,
   "metadata": {
    "collapsed": false
   },
   "outputs": [
    {
     "data": {
      "text/html": [
       "<div>\n",
       "<table border=\"1\" class=\"dataframe\">\n",
       "  <thead>\n",
       "    <tr style=\"text-align: right;\">\n",
       "      <th></th>\n",
       "      <th>Income</th>\n",
       "      <th>Country</th>\n",
       "      <th>Region</th>\n",
       "      <th>TotalPopulation</th>\n",
       "      <th>AdjustedIncome</th>\n",
       "    </tr>\n",
       "  </thead>\n",
       "  <tbody>\n",
       "    <tr>\n",
       "      <th>0</th>\n",
       "      <td>1637.0</td>\n",
       "      <td>Afghanistan</td>\n",
       "      <td>ASIA</td>\n",
       "      <td>27962207.0</td>\n",
       "      <td>11.50</td>\n",
       "    </tr>\n",
       "    <tr>\n",
       "      <th>1</th>\n",
       "      <td>9374.0</td>\n",
       "      <td>Albania</td>\n",
       "      <td>EUROPE</td>\n",
       "      <td>2901883.0</td>\n",
       "      <td>45.20</td>\n",
       "    </tr>\n",
       "    <tr>\n",
       "      <th>2</th>\n",
       "      <td>12494.0</td>\n",
       "      <td>Algeria</td>\n",
       "      <td>AFRICA</td>\n",
       "      <td>36036159.0</td>\n",
       "      <td>480.62</td>\n",
       "    </tr>\n",
       "    <tr>\n",
       "      <th>3</th>\n",
       "      <td>38982.0</td>\n",
       "      <td>Andorra</td>\n",
       "      <td>EUROPE</td>\n",
       "      <td>84419.0</td>\n",
       "      <td>5.47</td>\n",
       "    </tr>\n",
       "    <tr>\n",
       "      <th>4</th>\n",
       "      <td>7047.0</td>\n",
       "      <td>Angola</td>\n",
       "      <td>AFRICA</td>\n",
       "      <td>21219954.0</td>\n",
       "      <td>159.63</td>\n",
       "    </tr>\n",
       "  </tbody>\n",
       "</table>\n",
       "</div>"
      ],
      "text/plain": [
       "    Income      Country  Region  TotalPopulation  AdjustedIncome\n",
       "0   1637.0  Afghanistan    ASIA       27962207.0           11.50\n",
       "1   9374.0      Albania  EUROPE        2901883.0           45.20\n",
       "2  12494.0      Algeria  AFRICA       36036159.0          480.62\n",
       "3  38982.0      Andorra  EUROPE          84419.0            5.47\n",
       "4   7047.0       Angola  AFRICA       21219954.0          159.63"
      ]
     },
     "execution_count": 412,
     "metadata": {},
     "output_type": "execute_result"
    }
   ],
   "source": [
    "df = mergeByYearWithPop(2010)\n",
    "df.head()"
   ]
  },
  {
   "cell_type": "code",
   "execution_count": 414,
   "metadata": {
    "collapsed": false
   },
   "outputs": [
    {
     "data": {
      "text/html": [
       "<div>\n",
       "<table border=\"1\" class=\"dataframe\">\n",
       "  <thead>\n",
       "    <tr style=\"text-align: right;\">\n",
       "      <th></th>\n",
       "      <th>Income</th>\n",
       "      <th>Country</th>\n",
       "      <th>Region</th>\n",
       "      <th>TotalPopulation</th>\n",
       "      <th>AdjustedIncome</th>\n",
       "    </tr>\n",
       "  </thead>\n",
       "  <tbody>\n",
       "    <tr>\n",
       "      <th>0</th>\n",
       "      <td>1637.0</td>\n",
       "      <td>Afghanistan</td>\n",
       "      <td>ASIA</td>\n",
       "      <td>27962207.0</td>\n",
       "      <td>11.50</td>\n",
       "    </tr>\n",
       "    <tr>\n",
       "      <th>6</th>\n",
       "      <td>15765.0</td>\n",
       "      <td>Argentina</td>\n",
       "      <td>SOUTH AMERICA</td>\n",
       "      <td>41222875.0</td>\n",
       "      <td>1637.60</td>\n",
       "    </tr>\n",
       "    <tr>\n",
       "      <th>12</th>\n",
       "      <td>40553.0</td>\n",
       "      <td>Bahrain</td>\n",
       "      <td>ASIA</td>\n",
       "      <td>1261319.0</td>\n",
       "      <td>12.85</td>\n",
       "    </tr>\n",
       "    <tr>\n",
       "      <th>13</th>\n",
       "      <td>2459.0</td>\n",
       "      <td>Bangladesh</td>\n",
       "      <td>ASIA</td>\n",
       "      <td>151616777.0</td>\n",
       "      <td>93.69</td>\n",
       "    </tr>\n",
       "    <tr>\n",
       "      <th>19</th>\n",
       "      <td>6516.0</td>\n",
       "      <td>Bhutan</td>\n",
       "      <td>ASIA</td>\n",
       "      <td>720246.0</td>\n",
       "      <td>1.18</td>\n",
       "    </tr>\n",
       "  </tbody>\n",
       "</table>\n",
       "</div>"
      ],
      "text/plain": [
       "     Income      Country         Region  TotalPopulation  AdjustedIncome\n",
       "0    1637.0  Afghanistan           ASIA       27962207.0           11.50\n",
       "6   15765.0    Argentina  SOUTH AMERICA       41222875.0         1637.60\n",
       "12  40553.0      Bahrain           ASIA        1261319.0           12.85\n",
       "13   2459.0   Bangladesh           ASIA      151616777.0           93.69\n",
       "19   6516.0       Bhutan           ASIA         720246.0            1.18"
      ]
     },
     "execution_count": 414,
     "metadata": {},
     "output_type": "execute_result"
    }
   ],
   "source": [
    "df = df.loc[(df.Region == 'ASIA') | (df.Region == 'SOUTH AMERICA')]\n",
    "df.head()"
   ]
  },
  {
   "cell_type": "code",
   "execution_count": 415,
   "metadata": {
    "collapsed": false
   },
   "outputs": [
    {
     "data": {
      "text/plain": [
       "<matplotlib.text.Text at 0xe924fd0>"
      ]
     },
     "execution_count": 415,
     "metadata": {},
     "output_type": "execute_result"
    },
    {
     "data": {
      "image/png": "[encoded data removed]",
      "text/plain": [
       "<matplotlib.figure.Figure at 0x11751668>"
      ]
     },
     "metadata": {},
     "output_type": "display_data"
    }
   ],
   "source": [
    "df.boxplot('AdjustedIncome', by='Region')\n",
    "plt.yscale('log')\n",
    "plt.ylabel('Income per person adjusted for population (log10 scale)')"
   ]
  },
  {
   "cell_type": "markdown",
   "metadata": {},
   "source": [
    "下面重做问题3（c）："
   ]
  },
  {
   "cell_type": "code",
   "execution_count": 416,
   "metadata": {
    "collapsed": true
   },
   "outputs": [],
   "source": [
    "def ratioCountries(groupedData, a):\n",
    "    prop = [len(group.AdjustedIncome[group.AdjustedIncome >= a]) / float(len(group.AdjustedIncome.dropna())) for key, group in groupedData]\n",
    "    z = pd.DataFrame(groupedData.mean().index, columns=['Region'])\n",
    "    z['AdjustedIncome'] = np.round(groupedData.AdjustedIncome.sum().values, 2)\n",
    "    z['P(X > {})'.format(a)] = np.round(prop, 4)\n",
    "    return z"
   ]
  },
  {
   "cell_type": "code",
   "execution_count": 417,
   "metadata": {
    "collapsed": false
   },
   "outputs": [
    {
     "data": {
      "text/html": [
       "<div>\n",
       "<table border=\"1\" class=\"dataframe\">\n",
       "  <thead>\n",
       "    <tr style=\"text-align: right;\">\n",
       "      <th></th>\n",
       "      <th>Region</th>\n",
       "      <th>AdjustedIncome</th>\n",
       "      <th>P(X &gt; 10000.0)</th>\n",
       "    </tr>\n",
       "  </thead>\n",
       "  <tbody>\n",
       "    <tr>\n",
       "      <th>1</th>\n",
       "      <td>ASIA</td>\n",
       "      <td>8842.02</td>\n",
       "      <td>0.0</td>\n",
       "    </tr>\n",
       "    <tr>\n",
       "      <th>5</th>\n",
       "      <td>SOUTH AMERICA</td>\n",
       "      <td>13753.63</td>\n",
       "      <td>0.0</td>\n",
       "    </tr>\n",
       "  </tbody>\n",
       "</table>\n",
       "</div>"
      ],
      "text/plain": [
       "          Region  AdjustedIncome  P(X > 10000.0)\n",
       "1           ASIA         8842.02             0.0\n",
       "5  SOUTH AMERICA        13753.63             0.0"
      ]
     },
     "execution_count": 417,
     "metadata": {},
     "output_type": "execute_result"
    }
   ],
   "source": [
    "df = mergeByYearWithPop(2010).groupby('Region')\n",
    "df_ratio = ratioCountries(df, 1e4)\n",
    "df_ratio = df_ratio[(df_ratio.Region == 'ASIA') | (df_ratio.Region == 'SOUTH AMERICA')]\n",
    "df_ratio"
   ]
  },
  {
   "cell_type": "code",
   "execution_count": 418,
   "metadata": {
    "collapsed": false
   },
   "outputs": [
    {
     "data": {
      "text/html": [
       "<div>\n",
       "<table border=\"1\" class=\"dataframe\">\n",
       "  <thead>\n",
       "    <tr style=\"text-align: right;\">\n",
       "      <th></th>\n",
       "      <th>Region</th>\n",
       "      <th>AdjustedIncome</th>\n",
       "      <th>P(X &gt; 1000.0)</th>\n",
       "    </tr>\n",
       "  </thead>\n",
       "  <tbody>\n",
       "    <tr>\n",
       "      <th>1</th>\n",
       "      <td>ASIA</td>\n",
       "      <td>8842.02</td>\n",
       "      <td>0.0811</td>\n",
       "    </tr>\n",
       "    <tr>\n",
       "      <th>5</th>\n",
       "      <td>SOUTH AMERICA</td>\n",
       "      <td>13753.63</td>\n",
       "      <td>0.3333</td>\n",
       "    </tr>\n",
       "  </tbody>\n",
       "</table>\n",
       "</div>"
      ],
      "text/plain": [
       "          Region  AdjustedIncome  P(X > 1000.0)\n",
       "1           ASIA         8842.02         0.0811\n",
       "5  SOUTH AMERICA        13753.63         0.3333"
      ]
     },
     "execution_count": 418,
     "metadata": {},
     "output_type": "execute_result"
    }
   ],
   "source": [
    "df = mergeByYearWithPop(2010).groupby('Region')\n",
    "df_ratio = ratioCountries(df, 1e3)\n",
    "df_ratio = df_ratio[(df_ratio.Region == 'ASIA') | (df_ratio.Region == 'SOUTH AMERICA')]\n",
    "df_ratio"
   ]
  },
  {
   "cell_type": "markdown",
   "metadata": {},
   "source": [
    "问题3（d）得出了不同的结果，这是因为我们纠正了人口最多国家带来的问题。"
   ]
  },
  {
   "cell_type": "markdown",
   "metadata": {},
   "source": [
    "## 问题3讨论：\n",
    "*对问题3和其中的任务进行一个简短的总结，大约100字左右*。\n",
    "\n",
    "对于3（a），在完成问题3后，我们可以回答说在正太分布下才成立（结合3(b)和3(c)）。在2010年，亚洲的人均收入大于南美洲，但是由于亚洲和南美洲的人均收入分布是不同的（即亚洲不是通常的分布），我们在亚洲看到极值的概率要低于南美洲。当我们根据每个国家的人口来调整收入时，我们就能纠正异常值问题或人口最多国家带来的问题。\n",
    "\n",
    "---"
   ]
  }
 ],
 "metadata": {
  "anaconda-cloud": {},
  "kernelspec": {
   "display_name": "Python [Root]",
   "language": "python",
   "name": "Python [Root]"
  },
  "language_info": {
   "codemirror_mode": {
    "name": "ipython",
    "version": 3
   },
   "file_extension": ".py",
   "mimetype": "text/x-python",
   "name": "python",
   "nbconvert_exporter": "python",
   "pygments_lexer": "ipython3",
   "version": "3.5.2"
  }
 },
 "nbformat": 4,
 "nbformat_minor": 0
}
