{
 "cells": [
  {
   "cell_type": "markdown",
   "metadata": {},
   "source": [
    "# Final Lab: Classification and Clustering Grab Bag\n",
    "\n",
    "In this final lab, we will introduce two methods of classification called Neural Networks and Support Vector Machines, and an additional method of clustering called Hierarchical Agglomerative Clustering. We hope that introducing these methods will broaden your toolkit for tackling problems both for the final project and in the future. "
   ]
  },
  {
   "cell_type": "code",
   "execution_count": 1,
   "metadata": {
    "collapsed": true
   },
   "outputs": [],
   "source": [
    "%matplotlib inline\n",
    "import numpy\n",
    "import math\n",
    "import scipy\n",
    "import random\n",
    "import brewer2mpl\n",
    "import matplotlib.pyplot as plt"
   ]
  },
  {
   "cell_type": "markdown",
   "metadata": {},
   "source": [
    "# Neural Networks\n",
    "\n",
    "A neural network \"learns\" by solving an optimization problem to choose a set of parameters that minimizes an error function, which is typically a squared error loss. This definition of learning isn't unique to a neural network model. Consider, in the simplest case, a linear model of the form $y = XB$. Given a vector of data  $y \\in \\mathbb{R}^m$, we choose  $B \\in \\mathbb{R}^n$ that minimizes $||y-XB||_2$, where $X$ is an $m$ by $n$ matrix with \"training data\" on the rows.  Solving this least squares minimization problem has a nice well known closed form analytical result: $\\hat{B} = (X^TX)^{-1}X^Ty$. There is, however, a tradeoff between computational ease of finding optimal model parameters and model complexity.  This is evident in the linear case since the model is extremely easy to fit but has a very simple form. The neural network attempts to find a \"sweet spot\": while the model is highly non-linear, its particular functional form allows for a computationally slick fitting procedure called \"backpropogation\". \n",
    "\n",
    "A \"neural network\" is a function from $f: \\mathbb{R}^m \\rightarrow \\{-1,1\\}$. The input to each neuron is a linear combination of the outputs of each of the neurons in the lower layer. The output of the neuron is a nonlinear threshold applied to its input: it's something that maps the real line to (-1,1) in a 1-1 fashion such that \"most\" of the positive line is mapped pretty close to 1 and and \"most\" of the negative line is mapped pretty close to -1. A common choice is the function  $g(x) = \\frac{e^x-e^{-x}}{e^x+e^{-x}}$.The final output of the signal is the sign of the top neuron. Note that the top layer is constrained to have a single neuron.\n",
    "\n",
    "The goal of fitting the model is to find a suitable set of  \"weights\", which we can compactly refer to as $w$, for the inputs of each of the neurons. One way to do this is to choose a set of weights that minimize the sum of squared errors for training examples we already have. The intuition here is to choose a model that is \"close\" to the true model, just like we would in a linear regression. However, unlike linear regression an analytical solution is not feasible because of the ugly threshold functions, so we need to resort to a computational approach like gradient descent. Gradient descent takes steps in the direction of greatest error decrease in the parameter space, hoping to find a (global) minimum. (Recall that from multivariable calculus, the gradient of a scalar field points in the direction of the greatest increase of the function, and so walking in the opposite direction points in the direction of greatest decrease repeating the argument with the negative of the function.) \n",
    "\n",
    "We start by initializing the model with some arbitrary set of weights. Feeding forward, given an input $x \\in \\mathbb{R}^m$, we may compute the output as delineated above. Hence, we may calculate the error $E = (y-f(x))^2$. Now, we compute the gradient of this error function with respect to the weights. \n",
    "\n",
    "The beauty of the method is that computing the gradient of the error is computationally slick and can be done recursively using the chain rule. To see this, we'll introduce some notation. Let $k = 1...L$ indicate layers, assume that $s_{jk}$ is the output of the jth neuron in layer $k$, $x_{jk}$ is the input into neuron $j$ in layer $k$, and $w_{ijk}$ is the weight for the signal input into the $j$th neuron in layer $k$ coming from the ith neuron  in layer $k-1$, so that $x_{jk} = \\sum_{i=1}^{d_{k-1}}w_{ijk}s_{ik-1}$, $s_{jk} = g(x_{jk})$. Note that $d_{k-1}$ stands for the number of neurons in layer $k-1$.  By the chain rule, $$\\frac{\\partial E}{\\partial w_{ijk}} = \\frac{\\partial E}{\\partial s_{jk}}\\frac{\\partial s_{jk}}{\\partial w_{ijk}}$$. Since $s_{jk}$ is linear in the weights, the tricky part is only in computing the former component of the product. We may recursively compute this as \n",
    "\n",
    "$$ \\frac{\\partial E}{\\partial s_{jk}} = \\frac{\\partial E}{\\partial x_{jk}}\\frac{\\partial x_{jk}}{\\partial s_{jk}} = \\sum_{i=1}^{d_{k+1}} \\frac{\\partial E}{\\partial s_{ik+1}}\\frac{\\partial s_{ik+1}}{\\partial x_{jk}}\\frac{\\partial x_{jk}}{\\partial s_{jk}}$$\n",
    "\n",
    "The recursion terminates since $\\frac{\\partial E}{\\partial x_{1L}} = 2(x_{1L}-y)$. We start by computing the gradients from the top layer, and store the gradients as we progress down each layer,so that we need not recompute them. This leads to computational efficiency.  \n",
    "\n",
    "Thus \"learning\" in a neural network  is nothing but switching between computing the error using the training data and updating the weights by calculating the gradient of the error function. In the code block that follows, we write a class for NeuralNetworks, and apply it to performing classification."
   ]
  },
  {
   "cell_type": "code",
   "execution_count": 4,
   "metadata": {
    "collapsed": true
   },
   "outputs": [],
   "source": [
    "#Neural Network Class \n",
    "class Neural_Net:\n",
    "\n",
    "\t#constructor initializes a new neural network with randomly selected weights and pre-specified height, and number of neurons per layer\n",
    "\tdef __init__(self,non,height):\n",
    "\t\t#list to store the number of neurons in each layer of the network\n",
    "\t\tself.num_of_neurons = non\n",
    "\t\t#height of the network\n",
    "\t\tself.L = height\n",
    "\t\t#list to store number of weights in each layer of the network, indexed by layer, output neuron, input neuron\n",
    "\t\tself.weights = numpy.zeros(shape=(10,10,10))\n",
    "\t\t#delta_matrix: stores the gradient that is used in backpropagation\n",
    "\t\tself.deltas = numpy.zeros(shape=(10,10))\n",
    "\t\t#matrix that stores thresholded signals\n",
    "\t\tself.signals = numpy.zeros(shape=(10,10))\n",
    "\t\t#(tunable) learning_rate used in backpropagation\n",
    "\t\tself.learning_rate = .001\n",
    "\t\t#initialize weights to be between -2 and 2\n",
    "\t\tfor i in range(1,self.L+1):\n",
    "\t\t\tfor j in range(1,self.num_of_neurons[i]+1):\n",
    "\t\t\t\tfor k in range(self.num_of_neurons[i-1]+1):\n",
    "\t\t\t\t\tself.weights[i][j][k] = random.random()*4-2\t\t\n",
    "\t\t\t\t\t\t\t\t\t\t\t\n",
    "\t#forward_pass computes the output of the neural network given an input\n",
    "\tdef forward_pass(self,x):\n",
    "\t\t#(for convenience, we index neurons starting at 1 instead of zero)\n",
    "\t\tself.signals[0][0] = -1\n",
    "\t\tfor i in range(1,self.num_of_neurons[0]+1):\n",
    "\t\t\tself.signals[0][i] = x[i-1]\n",
    "\t\tfor i in range(1,self.L+1):\n",
    "\t\t\tself.signals[i][0] = -1\n",
    "\t\t\tfor j in range(1,self.num_of_neurons[i]+1):\n",
    "\t\t\t\tself.signals[i][j] = self.compute_signal(i,j)\n",
    "\t\treturn self.signals[self.L][1]\n",
    "\t\t\t\t\t\n",
    "\t#tune_weights performs the backpropagation algorithm given a training example as input\n",
    "\tdef tune_weights(self,y):\n",
    "\t\tself.deltas[self.L][1] = 2*(self.signals[self.L][1]-y)*(1-math.pow(self.signals[self.L][1],2))\n",
    "\t\tfor i in range(self.L-1,0,-1):\n",
    "\t\t\tfor j in range(1,self.num_of_neurons[i]+1):\n",
    "\t\t\t\tself.deltas[i][j] = self.compute_delta(i,j)\n",
    "\t\tfor i in range(1,self.L+1):\n",
    "\t\t\tfor j in range(1,self.num_of_neurons[i]+1):\n",
    "\t\t\t\tfor k in range(self.num_of_neurons[i-1]+1):\n",
    "\t\t\t\t\tself.weights[i][j][k] = self.weights[i][j][k]-self.learning_rate*self.signals[i-1][k]*self.deltas[i][j]\n",
    "\t\n",
    "\t#compute_signal: computes the delta for a given neuron at a given level\n",
    "\tdef compute_signal(self,level,neuron):\n",
    "\t\ts = 0\n",
    "\t\tfor i in range(self.num_of_neurons[level-1]+1):\n",
    "\t\t\ts += self.weights[level][neuron][i]*self.signals[level-1][i]\n",
    "\t\treturn self.g(s)\n",
    "\t\n",
    "\t#compute_delta: computes the signal s for a given neuron at a given level\n",
    "\tdef compute_delta(self,level,neuron):\n",
    "\t\ts = 0\n",
    "\t\tfor j in range(1,self.num_of_neurons[level+1]+1):\n",
    "\t\t\ts += self.weights[level+1][j][neuron]*self.deltas[level+1][j]\n",
    "\t\treturn (1-math.pow(self.signals[level][neuron],2))*s\n",
    "\t\n",
    "\t#soft threshold function\n",
    "\tdef g(self,s):\n",
    "\t\treturn (math.exp(s)-math.exp(-s))/(math.exp(s)+math.exp(-s))"
   ]
  },
  {
   "cell_type": "markdown",
   "metadata": {},
   "source": [
    "Now let's train a neural network and see how well it performs on the test and training sets epoch by epoch. We will use a mock training and test set with two covariates. We instantiate a neural network with one hidden layer with four neurons, and a learning rate of .001. The learning rate is how much we scale the gradient in \"walking\" the parameter space. \n",
    "\n",
    "To gain some intuition, try to tweak some of these knobs.\n",
    "\n",
    "Note that this will take about a minute to run!"
   ]
  },
  {
   "cell_type": "code",
   "execution_count": 6,
   "metadata": {
    "collapsed": false
   },
   "outputs": [
    {
     "ename": "IndexError",
     "evalue": "invalid index to scalar variable.",
     "output_type": "error",
     "traceback": [
      "\u001b[1;31m\u001b[0m",
      "\u001b[1;31mIndexError\u001b[0mTraceback (most recent call last)",
      "\u001b[1;32m<ipython-input-6-c246482a341e>\u001b[0m in \u001b[0;36m<module>\u001b[1;34m()\u001b[0m\n\u001b[0;32m     22\u001b[0m     \u001b[1;31m#compute the test errors\u001b[0m\u001b[1;33m\u001b[0m\u001b[1;33m\u001b[0m\u001b[0m\n\u001b[0;32m     23\u001b[0m     \u001b[1;32mfor\u001b[0m \u001b[0mj\u001b[0m \u001b[1;32min\u001b[0m \u001b[0mrange\u001b[0m\u001b[1;33m(\u001b[0m\u001b[1;36m250\u001b[0m\u001b[1;33m)\u001b[0m\u001b[1;33m:\u001b[0m\u001b[1;33m\u001b[0m\u001b[0m\n\u001b[1;32m---> 24\u001b[1;33m         \u001b[0mtest_error\u001b[0m \u001b[1;33m=\u001b[0m \u001b[0mtest_error\u001b[0m\u001b[1;33m+\u001b[0m\u001b[0mmath\u001b[0m\u001b[1;33m.\u001b[0m\u001b[0mpow\u001b[0m\u001b[1;33m(\u001b[0m\u001b[0mnetwork\u001b[0m\u001b[1;33m.\u001b[0m\u001b[0mforward_pass\u001b[0m\u001b[1;33m(\u001b[0m\u001b[0mtesting\u001b[0m\u001b[1;33m[\u001b[0m\u001b[0mj\u001b[0m\u001b[1;33m]\u001b[0m\u001b[1;33m)\u001b[0m \u001b[1;33m-\u001b[0m \u001b[0mtesting\u001b[0m\u001b[1;33m[\u001b[0m\u001b[0mj\u001b[0m\u001b[1;33m]\u001b[0m\u001b[1;33m[\u001b[0m\u001b[1;36m2\u001b[0m\u001b[1;33m]\u001b[0m\u001b[1;33m,\u001b[0m \u001b[1;36m2\u001b[0m\u001b[1;33m)\u001b[0m\u001b[1;33m\u001b[0m\u001b[0m\n\u001b[0m\u001b[0;32m     25\u001b[0m     \u001b[1;31m#compute the training errors, SEQUENTIALLY. In other words, we perform backpropagation for *every* example\u001b[0m\u001b[1;33m\u001b[0m\u001b[1;33m\u001b[0m\u001b[0m\n\u001b[0;32m     26\u001b[0m     \u001b[1;31m#instead of all at once.\u001b[0m\u001b[1;33m\u001b[0m\u001b[1;33m\u001b[0m\u001b[0m\n",
      "\u001b[1;32m<ipython-input-4-95702b2e4c8d>\u001b[0m in \u001b[0;36mforward_pass\u001b[1;34m(self, x)\u001b[0m\n\u001b[0;32m     27\u001b[0m                 \u001b[0mself\u001b[0m\u001b[1;33m.\u001b[0m\u001b[0msignals\u001b[0m\u001b[1;33m[\u001b[0m\u001b[1;36m0\u001b[0m\u001b[1;33m]\u001b[0m\u001b[1;33m[\u001b[0m\u001b[1;36m0\u001b[0m\u001b[1;33m]\u001b[0m \u001b[1;33m=\u001b[0m \u001b[1;33m-\u001b[0m\u001b[1;36m1\u001b[0m\u001b[1;33m\u001b[0m\u001b[0m\n\u001b[0;32m     28\u001b[0m                 \u001b[1;32mfor\u001b[0m \u001b[0mi\u001b[0m \u001b[1;32min\u001b[0m \u001b[0mrange\u001b[0m\u001b[1;33m(\u001b[0m\u001b[1;36m1\u001b[0m\u001b[1;33m,\u001b[0m\u001b[0mself\u001b[0m\u001b[1;33m.\u001b[0m\u001b[0mnum_of_neurons\u001b[0m\u001b[1;33m[\u001b[0m\u001b[1;36m0\u001b[0m\u001b[1;33m]\u001b[0m\u001b[1;33m+\u001b[0m\u001b[1;36m1\u001b[0m\u001b[1;33m)\u001b[0m\u001b[1;33m:\u001b[0m\u001b[1;33m\u001b[0m\u001b[0m\n\u001b[1;32m---> 29\u001b[1;33m                         \u001b[0mself\u001b[0m\u001b[1;33m.\u001b[0m\u001b[0msignals\u001b[0m\u001b[1;33m[\u001b[0m\u001b[1;36m0\u001b[0m\u001b[1;33m]\u001b[0m\u001b[1;33m[\u001b[0m\u001b[0mi\u001b[0m\u001b[1;33m]\u001b[0m \u001b[1;33m=\u001b[0m \u001b[0mx\u001b[0m\u001b[1;33m[\u001b[0m\u001b[0mi\u001b[0m\u001b[1;33m-\u001b[0m\u001b[1;36m1\u001b[0m\u001b[1;33m]\u001b[0m\u001b[1;33m\u001b[0m\u001b[0m\n\u001b[0m\u001b[0;32m     30\u001b[0m                 \u001b[1;32mfor\u001b[0m \u001b[0mi\u001b[0m \u001b[1;32min\u001b[0m \u001b[0mrange\u001b[0m\u001b[1;33m(\u001b[0m\u001b[1;36m1\u001b[0m\u001b[1;33m,\u001b[0m\u001b[0mself\u001b[0m\u001b[1;33m.\u001b[0m\u001b[0mL\u001b[0m\u001b[1;33m+\u001b[0m\u001b[1;36m1\u001b[0m\u001b[1;33m)\u001b[0m\u001b[1;33m:\u001b[0m\u001b[1;33m\u001b[0m\u001b[0m\n\u001b[0;32m     31\u001b[0m                         \u001b[0mself\u001b[0m\u001b[1;33m.\u001b[0m\u001b[0msignals\u001b[0m\u001b[1;33m[\u001b[0m\u001b[0mi\u001b[0m\u001b[1;33m]\u001b[0m\u001b[1;33m[\u001b[0m\u001b[1;36m0\u001b[0m\u001b[1;33m]\u001b[0m \u001b[1;33m=\u001b[0m \u001b[1;33m-\u001b[0m\u001b[1;36m1\u001b[0m\u001b[1;33m\u001b[0m\u001b[0m\n",
      "\u001b[1;31mIndexError\u001b[0m: invalid index to scalar variable."
     ]
    }
   ],
   "source": [
    "#read in the train and test dat, assuming csv format\n",
    "training = numpy.genfromtxt('train.csv',delimiter = ',')\n",
    "testing = numpy.genfromtxt('test.csv',delimiter = ',')\n",
    "\n",
    "#specify the number of neurons in each layer\n",
    "num_of_neurons = [2,4,1]\n",
    "\n",
    "#initialize a new neural network\n",
    "network = Neural_Net(num_of_neurons,2)\n",
    "\n",
    "#store the training error and test error during each epoch\n",
    "training_error = 0\n",
    "test_error = 0\n",
    "\n",
    "#store the training and test error for all epochs\n",
    "train = numpy.zeros(shape = (1000))\n",
    "test = numpy.zeros(shape = (1000))\n",
    "\n",
    "for epoch in range(1000):\n",
    "    training_error = 0\n",
    "    test_error = 0\n",
    "    #compute the test errors\n",
    "    for j in range(250):\n",
    "        test_error = test_error+math.pow(network.forward_pass(testing[j]) - testing[j][2], 2)\n",
    "    #compute the training errors, SEQUENTIALLY. In other words, we perform backpropagation for *every* example\n",
    "    #instead of all at once. \n",
    "    for i in range(25):\n",
    "        training_error = training_error+math.pow(network.forward_pass(training[i])- training[i][2], 2)\n",
    "        network.tune_weights(training[i][2])\t   \n",
    "    training_error = training_error/25\n",
    "    test_error = test_error/250\n",
    "    train[epoch] = training_error\n",
    "    test[epoch]  = test_error"
   ]
  },
  {
   "cell_type": "markdown",
   "metadata": {},
   "source": [
    "Now let's compare the training and test error, epoch by epoch. Do we see signs of overfitting?"
   ]
  },
  {
   "cell_type": "code",
   "execution_count": 7,
   "metadata": {
    "collapsed": false
   },
   "outputs": [
    {
     "data": {
      "text/plain": [
       "<matplotlib.text.Text at 0x76b3c50>"
      ]
     },
     "execution_count": 7,
     "metadata": {},
     "output_type": "execute_result"
    },
    {
     "data": {
      "image/png": "[encoded data removed]",
      "text/plain": [
       "<matplotlib.figure.Figure at 0x77ffc18>"
      ]
     },
     "metadata": {},
     "output_type": "display_data"
    }
   ],
   "source": [
    "fig, ax = plt.subplots()\n",
    "ax.plot(numpy.arange(1000), test, lw=2, label = 'test')\n",
    "ax.plot(numpy.arange(1000), train, lw=2, label = 'train')\n",
    "ax.legend(loc=0)\n",
    "ax.set_xlabel('Epoch')\n",
    "ax.set_ylabel('MSE')"
   ]
  },
  {
   "cell_type": "code",
   "execution_count": null,
   "metadata": {
    "collapsed": true
   },
   "outputs": [],
   "source": []
  }
 ],
 "metadata": {
  "anaconda-cloud": {},
  "kernelspec": {
   "display_name": "Python [Root]",
   "language": "python",
   "name": "Python [Root]"
  },
  "language_info": {
   "codemirror_mode": {
    "name": "ipython",
    "version": 3
   },
   "file_extension": ".py",
   "mimetype": "text/x-python",
   "name": "python",
   "nbconvert_exporter": "python",
   "pygments_lexer": "ipython3",
   "version": "3.5.2"
  }
 },
 "nbformat": 4,
 "nbformat_minor": 0
}
