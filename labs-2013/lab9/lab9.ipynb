{
 "cells": [
  {
   "cell_type": "markdown",
   "metadata": {},
   "source": [
    "# Lab 9 - Graphs & Networks"
   ]
  },
  {
   "cell_type": "markdown",
   "metadata": {},
   "source": [
    "In this lab we will do the following:\n",
    "\n",
    "0. Get a LinkedIn API key\n",
    "1. Use oauth2 to get an acceess token\n",
    "2. First we are going to download our own LinkedIn data using the LinkedIn API. \n",
    "3. Then we are exporting this data as a csv file to be able to import it into Gephi. \n",
    "4. Before starting Gephi we will do some network analysis directly in python\n",
    "5. We will analyze our data with the external tool Gephi\n",
    "\n",
    "You can download this notebook from [here](https://raw.github.com/cs109/content/master/labs/lab9/lab_9.ipynb)."
   ]
  },
  {
   "cell_type": "markdown",
   "metadata": {},
   "source": [
    "### 0. Install oauth2 package"
   ]
  },
  {
   "cell_type": "code",
   "execution_count": null,
   "metadata": {
    "collapsed": true
   },
   "outputs": [],
   "source": [
    "!pip install oauth2\n",
    "!pip install unidecode"
   ]
  },
  {
   "cell_type": "code",
   "execution_count": 1,
   "metadata": {
    "collapsed": false
   },
   "outputs": [
    {
     "name": "stderr",
     "output_type": "stream",
     "text": [
      "D:\\Users\\ZB-TQ-G1010448\\Anaconda3\\lib\\site-packages\\matplotlib\\__init__.py:872: UserWarning: axes.color_cycle is deprecated and replaced with axes.prop_cycle; please use the latter.\n",
      "  warnings.warn(self.msg_depr % (key, alt_key))\n"
     ]
    }
   ],
   "source": [
    "%matplotlib inline\n",
    "from collections import defaultdict\n",
    "import json\n",
    "\n",
    "import numpy as np\n",
    "import scipy as sp\n",
    "import matplotlib.pyplot as plt\n",
    "import pandas as pd\n",
    "\n",
    "from matplotlib import rcParams\n",
    "import matplotlib.cm as cm\n",
    "import matplotlib as mpl\n",
    "\n",
    "#colorbrewer2 Dark2 qualitative color table\n",
    "dark2_colors = [(0.10588235294117647, 0.6196078431372549, 0.4666666666666667),\n",
    "                (0.8509803921568627, 0.37254901960784315, 0.00784313725490196),\n",
    "                (0.4588235294117647, 0.4392156862745098, 0.7019607843137254),\n",
    "                (0.9058823529411765, 0.1607843137254902, 0.5411764705882353),\n",
    "                (0.4, 0.6509803921568628, 0.11764705882352941),\n",
    "                (0.9019607843137255, 0.6705882352941176, 0.00784313725490196),\n",
    "                (0.6509803921568628, 0.4627450980392157, 0.11372549019607843)]\n",
    "\n",
    "rcParams['figure.figsize'] = (10, 6)\n",
    "rcParams['figure.dpi'] = 150\n",
    "rcParams['axes.color_cycle'] = dark2_colors\n",
    "rcParams['lines.linewidth'] = 2\n",
    "rcParams['axes.facecolor'] = 'white'\n",
    "rcParams['font.size'] = 14\n",
    "rcParams['patch.edgecolor'] = 'white'\n",
    "rcParams['patch.facecolor'] = dark2_colors[0]\n",
    "rcParams['font.family'] = 'StixGeneral'\n",
    "\n",
    "\n",
    "def remove_border(axes=None, top=False, right=False, left=True, bottom=True):\n",
    "    \"\"\"\n",
    "    Minimize chartjunk by stripping out unnecesasry plot borders and axis ticks\n",
    "    \n",
    "    The top/right/left/bottom keywords toggle whether the corresponding plot border is drawn\n",
    "    \"\"\"\n",
    "    ax = axes or plt.gca()\n",
    "    ax.spines['top'].set_visible(top)\n",
    "    ax.spines['right'].set_visible(right)\n",
    "    ax.spines['left'].set_visible(left)\n",
    "    ax.spines['bottom'].set_visible(bottom)\n",
    "    \n",
    "    #turn off all ticks\n",
    "    ax.yaxis.set_ticks_position('none')\n",
    "    ax.xaxis.set_ticks_position('none')\n",
    "    \n",
    "    #now re-enable visibles\n",
    "    if top:\n",
    "        ax.xaxis.tick_top()\n",
    "    if bottom:\n",
    "        ax.xaxis.tick_bottom()\n",
    "    if left:\n",
    "        ax.yaxis.tick_left()\n",
    "    if right:\n",
    "        ax.yaxis.tick_right()\n",
    "        \n",
    "pd.set_option('display.width', 500)\n",
    "pd.set_option('display.max_columns', 100)"
   ]
  },
  {
   "cell_type": "markdown",
   "metadata": {},
   "source": [
    "### 1. Get API key\n",
    "\n",
    "Get a LinkedIn API key at http://developer.linkedin.com/documents/authentication (choose r_network)\n",
    "\n",
    "Save your authentication:"
   ]
  },
  {
   "cell_type": "code",
   "execution_count": 2,
   "metadata": {
    "collapsed": true
   },
   "outputs": [],
   "source": [
    "#Johanna\n",
    "\n",
    "#user_token = '6a516d33-786e-443c-b6e9-def654f88098'\n",
    "#user_secret = 'c03c49da-9dae-4b05-a2af-82e40426439f'\n",
    "\n",
    "#api_key = 'xpsswsigqw4r'\n",
    "#secret_key = 'aIRpJHhA8JHTRsyb'\n",
    "\n",
    "#Alex\n",
    "\n",
    "#api_key = 'g8lq60ilatfh'\n",
    "#secret_key = 'XEOmeklHWHtmwgoQ'\n",
    "\n",
    "#user_token = 'a8991ba6-9a27-40d7-ac6f-9280cc1dc650'\n",
    "#user_secret = '43a11017-c1f3-4c30-afab-43df3c39b938'\n",
    "\n",
    "#Nicolas\n",
    "\n",
    "user_token = 'd41f3e0c-6bb9-4db8-b324-25a723ff2f50'\n",
    "user_secret = 'fc66e892-6f92-4e15-b9a9-b0cccbec5336'\n",
    "\n",
    "api_key = 'kg7oy496e09a'\n",
    "secret_key = 'oLCLRNxVjt8ZY6OE'"
   ]
  },
  {
   "cell_type": "markdown",
   "metadata": {},
   "source": [
    "### 2. Get Access Token\n",
    "\n",
    "Next we are scraping our data using the LinkedIn API. (Code for using the LinkedIn API is taken and adjusted from http://dataiku.com/blog/2012/12/07/visualizing-your-linkedin-graph-using-gephi-part-1.html)."
   ]
  },
  {
   "cell_type": "code",
   "execution_count": 3,
   "metadata": {
    "collapsed": false
   },
   "outputs": [
    {
     "ename": "ImportError",
     "evalue": "No module named 'urlparse'",
     "output_type": "error",
     "traceback": [
      "\u001b[1;31m\u001b[0m",
      "\u001b[1;31mImportError\u001b[0mTraceback (most recent call last)",
      "\u001b[1;32m<ipython-input-3-5b3ddd25b533>\u001b[0m in \u001b[0;36m<module>\u001b[1;34m()\u001b[0m\n\u001b[0;32m      1\u001b[0m \u001b[1;32mimport\u001b[0m \u001b[0moauth2\u001b[0m \u001b[1;32mas\u001b[0m \u001b[0moauth\u001b[0m\u001b[1;33m\u001b[0m\u001b[0m\n\u001b[1;32m----> 2\u001b[1;33m \u001b[1;32mimport\u001b[0m \u001b[0murlparse\u001b[0m\u001b[1;33m\u001b[0m\u001b[0m\n\u001b[0m\u001b[0;32m      3\u001b[0m \u001b[1;33m\u001b[0m\u001b[0m\n\u001b[0;32m      4\u001b[0m \u001b[1;32mdef\u001b[0m \u001b[0mrequest_token\u001b[0m\u001b[1;33m(\u001b[0m\u001b[0mconsumer\u001b[0m\u001b[1;33m)\u001b[0m\u001b[1;33m:\u001b[0m\u001b[1;33m\u001b[0m\u001b[0m\n\u001b[0;32m      5\u001b[0m     \u001b[0mclient\u001b[0m \u001b[1;33m=\u001b[0m \u001b[0moauth\u001b[0m\u001b[1;33m.\u001b[0m\u001b[0mClient\u001b[0m\u001b[1;33m(\u001b[0m\u001b[0mconsumer\u001b[0m\u001b[1;33m)\u001b[0m\u001b[1;33m\u001b[0m\u001b[0m\n",
      "\u001b[1;31mImportError\u001b[0m: No module named 'urlparse'"
     ]
    }
   ],
   "source": [
    "import oauth2 as oauth\n",
    "import urlparse\n",
    "        \n",
    "def request_token(consumer):\n",
    "    client = oauth.Client(consumer)\n",
    "    request_token_url = 'https://api.linkedin.com/uas/oauth/requestToken?scope=r_network'\n",
    "    resp, content = client.request(request_token_url, \"POST\")\n",
    "    if resp['status'] != '200':\n",
    "        raise Exception(\"Invalid response %s.\" % resp['status'])\n",
    "    request_token = dict(urlparse.parse_qsl(content))\n",
    "    return request_token\n",
    "\n",
    "#consumer = oauth.Consumer(api_key, secret_key)\n",
    "#r_token = request_token(consumer)\n",
    "#print \"Request Token: oauth_token: %s, oauth_token_secret: %s\" % (r_token['oauth_token'], r_token['oauth_token_secret'])\n",
    " "
   ]
  },
  {
   "cell_type": "code",
   "execution_count": 4,
   "metadata": {
    "collapsed": false
   },
   "outputs": [
    {
     "ename": "SyntaxError",
     "evalue": "Missing parentheses in call to 'print' (<ipython-input-4-d1e6755928b0>, line 3)",
     "output_type": "error",
     "traceback": [
      "\u001b[1;36m  File \u001b[1;32m\"<ipython-input-4-d1e6755928b0>\"\u001b[1;36m, line \u001b[1;32m3\u001b[0m\n\u001b[1;33m    print \"Go to the following link in your browser:\"\u001b[0m\n\u001b[1;37m                                                    ^\u001b[0m\n\u001b[1;31mSyntaxError\u001b[0m\u001b[1;31m:\u001b[0m Missing parentheses in call to 'print'\n"
     ]
    }
   ],
   "source": [
    "def authorize(request_token):\n",
    "    authorize_url ='https://api.linkedin.com/uas/oauth/authorize'\n",
    "    print \"Go to the following link in your browser:\"\n",
    "    print \"%s?oauth_token=%s\" % (authorize_url, request_token['oauth_token'])\n",
    "    print\n",
    "    accepted = 'n'\n",
    "    while accepted.lower() == 'n':\n",
    "        accepted = raw_input('Have you authorized me? (y/n) ')\n",
    "    oauth_verifier = raw_input('What is the PIN? ')\n",
    "    return oauth_verifier\n",
    "  \n",
    "#oauth_verifier = authorize(r_token)"
   ]
  },
  {
   "cell_type": "code",
   "execution_count": 5,
   "metadata": {
    "collapsed": true
   },
   "outputs": [],
   "source": [
    "def access(consumer, request_token, oauth_verifier):\n",
    "    access_token_url = 'https://api.linkedin.com/uas/oauth/accessToken'\n",
    "    token = oauth.Token(request_token['oauth_token'], request_token['oauth_token_secret'])\n",
    "    token.set_verifier(oauth_verifier)\n",
    "    client = oauth.Client(consumer, token)\n",
    "    resp, content = client.request(access_token_url, \"POST\")\n",
    "    access_token = dict(urlparse.parse_qsl(content))\n",
    "    return access_token\n",
    "          \n",
    "#a_token = access(consumer, r_token, oauth_verifier)\n",
    "#print a_token\n",
    "#print \"Access Token: oauth_token = %s, oauth_token_secret = %s\" % (a_token['oauth_token'], a_token['oauth_token_secret'])\n",
    "#print \"You may now access protected resources using the access tokens above.\""
   ]
  },
  {
   "cell_type": "code",
   "execution_count": 6,
   "metadata": {
    "collapsed": false
   },
   "outputs": [
    {
     "ename": "SyntaxError",
     "evalue": "invalid syntax (<ipython-input-6-c1997bc6e556>, line 4)",
     "output_type": "error",
     "traceback": [
      "\u001b[1;36m  File \u001b[1;32m\"<ipython-input-6-c1997bc6e556>\"\u001b[1;36m, line \u001b[1;32m4\u001b[0m\n\u001b[1;33m    print \"Request Token: oauth_token: %s, oauth_token_secret: %s\" % (r_token['oauth_token'], r_token['oauth_token_secret'])\u001b[0m\n\u001b[1;37m                                                                 ^\u001b[0m\n\u001b[1;31mSyntaxError\u001b[0m\u001b[1;31m:\u001b[0m invalid syntax\n"
     ]
    }
   ],
   "source": [
    "consumer = oauth.Consumer(api_key, secret_key)\n",
    "\n",
    "r_token = request_token(consumer)\n",
    "print \"Request Token: oauth_token: %s, oauth_token_secret: %s\" % (r_token['oauth_token'], r_token['oauth_token_secret'])\n",
    "\n",
    "oauth_verifier = authorize(r_token)\n",
    "\n",
    "a_token = access(consumer, r_token, oauth_verifier)\n",
    "print a_token\n",
    "print \"Access Token: oauth_token = %s, oauth_token_secret = %s\" % (a_token['oauth_token'], a_token['oauth_token_secret'])\n",
    "print \"You may now access protected resources using the access tokens above.\""
   ]
  },
  {
   "cell_type": "markdown",
   "metadata": {},
   "source": [
    "### 3. Get data, clean it and store to disk"
   ]
  },
  {
   "cell_type": "code",
   "execution_count": 7,
   "metadata": {
    "collapsed": false
   },
   "outputs": [
    {
     "ename": "ImportError",
     "evalue": "No module named 'simplejson'",
     "output_type": "error",
     "traceback": [
      "\u001b[1;31m\u001b[0m",
      "\u001b[1;31mImportError\u001b[0mTraceback (most recent call last)",
      "\u001b[1;32m<ipython-input-7-c6b2bffb54a0>\u001b[0m in \u001b[0;36m<module>\u001b[1;34m()\u001b[0m\n\u001b[1;32m----> 1\u001b[1;33m \u001b[1;32mimport\u001b[0m \u001b[0msimplejson\u001b[0m\u001b[1;33m\u001b[0m\u001b[0m\n\u001b[0m\u001b[0;32m      2\u001b[0m \u001b[1;32mimport\u001b[0m \u001b[0mcodecs\u001b[0m\u001b[1;33m\u001b[0m\u001b[0m\n\u001b[0;32m      3\u001b[0m \u001b[1;33m\u001b[0m\u001b[0m\n\u001b[0;32m      4\u001b[0m \u001b[0moutput_file\u001b[0m \u001b[1;33m=\u001b[0m \u001b[1;34m'linkedIn_links.csv'\u001b[0m\u001b[1;33m\u001b[0m\u001b[0m\n\u001b[0;32m      5\u001b[0m \u001b[0mmy_name\u001b[0m \u001b[1;33m=\u001b[0m \u001b[1;34m'Your Name'\u001b[0m\u001b[1;33m\u001b[0m\u001b[0m\n",
      "\u001b[1;31mImportError\u001b[0m: No module named 'simplejson'"
     ]
    }
   ],
   "source": [
    "import simplejson\n",
    "import codecs\n",
    " \n",
    "output_file = 'linkedIn_links.csv'\n",
    "my_name = 'Your Name'\n",
    " \n",
    "def linkedin_connections():\n",
    "    # Use your credentials to build the oauth client\n",
    "    consumer = oauth.Consumer(key=api_key, secret=secret_key)\n",
    "    token = oauth.Token(key=a_token['oauth_token'], secret=a_token['oauth_token_secret'])\n",
    "    client = oauth.Client(consumer, token)\n",
    "    \n",
    "    # Fetch first degree connections\n",
    "    resp, content = client.request('http://api.linkedin.com/v1/people/~/connections?format=json')\n",
    "    results = simplejson.loads(content)\n",
    "    \n",
    "    # File that will store the results\n",
    "    output = codecs.open(output_file, 'w', 'utf-8')\n",
    "    \n",
    "    # Loop through the 1st degree connection and see how they connect to each other\n",
    "    for result in results[\"values\"]:\n",
    "        con = \"%s %s\" % (result[\"firstName\"].replace(\",\", \" \"), result[\"lastName\"].replace(\",\", \" \"))\n",
    "        print >>output, \"%s,%s\" % (my_name, con)\n",
    "        # This is the trick, use the search API to get related connections\n",
    "        u = \"https://api.linkedin.com/v1/people/%s:(relation-to-viewer:(related-connections))?format=json\" % result[\"id\"]\n",
    "        resp, content = client.request(u)\n",
    "        rels = simplejson.loads(content)\n",
    "        try:\n",
    "            for rel in rels['relationToViewer']['relatedConnections']['values']:\n",
    "                sec = \"%s %s\" % (rel[\"firstName\"].replace(\",\", \" \"), rel[\"lastName\"].replace(\",\", \" \"))\n",
    "                print >>output, \"%s,%s\" % (con, sec)\n",
    "        except:\n",
    "            pass\n",
    "\n",
    "linkedin_connections()"
   ]
  },
  {
   "cell_type": "code",
   "execution_count": 8,
   "metadata": {
    "collapsed": false
   },
   "outputs": [
    {
     "ename": "NameError",
     "evalue": "name 'output_file' is not defined",
     "output_type": "error",
     "traceback": [
      "\u001b[1;31m\u001b[0m",
      "\u001b[1;31mNameError\u001b[0mTraceback (most recent call last)",
      "\u001b[1;32m<ipython-input-8-731c0853404a>\u001b[0m in \u001b[0;36m<module>\u001b[1;34m()\u001b[0m\n\u001b[0;32m     25\u001b[0m         \u001b[0mprint\u001b[0m \u001b[1;33m>>\u001b[0m\u001b[0moutput\u001b[0m\u001b[1;33m,\u001b[0m \u001b[1;34m'%s,%s'\u001b[0m \u001b[1;33m%\u001b[0m \u001b[1;33m(\u001b[0m\u001b[0medge\u001b[0m\u001b[1;33m[\u001b[0m\u001b[1;36m0\u001b[0m\u001b[1;33m]\u001b[0m\u001b[1;33m,\u001b[0m \u001b[0medge\u001b[0m\u001b[1;33m[\u001b[0m\u001b[1;36m1\u001b[0m\u001b[1;33m]\u001b[0m\u001b[1;33m)\u001b[0m\u001b[1;33m\u001b[0m\u001b[0m\n\u001b[0;32m     26\u001b[0m \u001b[1;33m\u001b[0m\u001b[0m\n\u001b[1;32m---> 27\u001b[1;33m \u001b[0mclean\u001b[0m\u001b[1;33m(\u001b[0m\u001b[0moutput_file\u001b[0m\u001b[1;33m,\u001b[0m \u001b[0mclean_output_file\u001b[0m\u001b[1;33m)\u001b[0m\u001b[1;33m\u001b[0m\u001b[0m\n\u001b[0m",
      "\u001b[1;31mNameError\u001b[0m: name 'output_file' is not defined"
     ]
    }
   ],
   "source": [
    "from operator import itemgetter\n",
    "from unidecode import unidecode\n",
    " \n",
    "clean_output_file = 'linkedIn_links_clean.csv'\n",
    " \n",
    "def stringify(chain):\n",
    "    # Simple utility to build the nodes labels\n",
    "    allowed = '0123456789abcdefghijklmnopqrstuvwxyz_'\n",
    "    c = unidecode(chain.strip().lower().replace(' ', '_'))\n",
    "    return ''.join([letter for letter in c if letter in allowed])\n",
    " \n",
    " \n",
    "def clean(f_input, f_output):\n",
    "    output = open(f_output, 'w')\n",
    "    # Store the edges inside a set for dedup\n",
    "    edges = set()\n",
    "    for line in codecs.open(f_input, 'r', 'utf-8'):\n",
    "        from_person, to_person = line.strip().split(',')\n",
    "        _f = stringify(from_person)\n",
    "        _t = stringify(to_person)\n",
    "        # Reorder the edge tuple\n",
    "        _e = tuple(sorted((_f, _t), key=itemgetter(0, 1)))\n",
    "        edges.add(_e)\n",
    "    for edge in edges:\n",
    "        print >>output, '%s,%s' % (edge[0], edge[1])\n",
    " \n",
    "clean(output_file, clean_output_file)"
   ]
  },
  {
   "cell_type": "markdown",
   "metadata": {},
   "source": [
    "When you have run these cells you have a 'linkedIn_links_clean.csv' file in the directory of your notebook, that is compatible with gephi. **If you don't have a LinkedIn account or think your network is boring you can use one of ours which you can get [here](https://raw.github.com/cs109/content/master/labs/lab9/linkedin_alexander_lex.csv).**\n",
    "\n",
    "## 4. Network Analysis with Gephi\n",
    "\n",
    "### Installation\n",
    "\n",
    "Gephi requires Java to run, at least a JRE of version 6. To check if you have java installed, open a console and run\n",
    "\n",
    "```\n",
    "$ java -version\n",
    "java version \"1.7.0_25\"\n",
    "OpenJDK Runtime Environment (IcedTea 2.3.12) (7u25-2.3.12-4ubuntu3)\n",
    "OpenJDK 64-Bit Server VM (build 23.7-b01, mixed mode)\n",
    "```\n",
    "\n",
    "If you don't have java or only an outdated version, go [here](http://www.oracle.com/technetwork/java/javase/downloads/jdk7-downloads-1880260.html) to download it.\n",
    "\n",
    "To install gephi, [download](http://gephi.org/users/download/) it and follow these [installation instructions](http://gephi.org/users/install/).\n",
    "\n",
    "### Analysis\n",
    "\n",
    "The analysis with a GUI based tool is hard to convey in an IPython Notebook ;). If you don't want to watch the video, here is the [Gephi Quick Start guide](http://gephi.org/users/quick-start/). \n",
    "\n",
    "Here are the things we are doing:\n",
    "\n",
    "  * Applying a force directed layout with increased repulsion strength\n",
    "  * Remove yourself, explore shortest paths between partners\n",
    "  * Run force-directed again\n",
    "  * Calculating a PageRank \n",
    "  * Color nodes by PageRank\n",
    "  * Trying a couple of other statistics\n",
    "  * Size by PageRank\n",
    "  * Filter by Topology, Degree\n",
    "  * \"Cluster\" by running Modularity. Try different parameters. \n",
    "  * Highlight via \"Partition\""
   ]
  },
  {
   "cell_type": "markdown",
   "metadata": {},
   "source": [
    "# Page Rank\n",
    "\n",
    "## Method\n",
    "\n",
    "We'll show during this lab that the PageRank basically amounts to computing the largest eigen vector of a stochastic matrix, which can be done via the power iteration method.\n",
    "\n",
    "Now, code it on your LinkedIn network!"
   ]
  },
  {
   "cell_type": "code",
   "execution_count": 9,
   "metadata": {
    "collapsed": false
   },
   "outputs": [
    {
     "ename": "SyntaxError",
     "evalue": "invalid syntax (<ipython-input-9-024f29d7ff5c>, line 31)",
     "output_type": "error",
     "traceback": [
      "\u001b[1;36m  File \u001b[1;32m\"<ipython-input-9-024f29d7ff5c>\"\u001b[1;36m, line \u001b[1;32m31\u001b[0m\n\u001b[1;33m    prs = sorted(pagerank.iteritems(), reverse=True, key=lambda (k,v): v)\u001b[0m\n\u001b[1;37m                                                                ^\u001b[0m\n\u001b[1;31mSyntaxError\u001b[0m\u001b[1;31m:\u001b[0m invalid syntax\n"
     ]
    }
   ],
   "source": [
    "import csv\n",
    "from collections import defaultdict\n",
    "\n",
    "pairlist=[]\n",
    "connections=defaultdict(list)\n",
    "userset=set()\n",
    "\n",
    "with open('linkedIn_links_clean.csv', 'rb') as csvfile:\n",
    "    allrows = csv.reader(csvfile, delimiter=',')\n",
    "    for row in allrows:\n",
    "#        if ((row[0]=='your_name') | (row[1]=='your_name')): continue   # exclude yourself ?\n",
    "        pairlist.append((row[0], row[1]))\n",
    "        connections[row[0]].append(row[1])\n",
    "        connections[row[1]].append(row[0])\n",
    "        userset.add(row[0])\n",
    "        userset.add(row[1])\n",
    "        \n",
    "## Actual algorithm starts here        \n",
    "        \n",
    "pagerank=defaultdict(lambda:1./len(userset))  # to get normalized values (e.g., to compare with eigenvectors) = probabilities\n",
    "#pagerank=defaultdict(lambda:1.)  \n",
    "\n",
    "for iteration in xrange(0, 30):\n",
    "    newpagerank=defaultdict(lambda:0.)\n",
    "    for user in userset:\n",
    "        for connection in connections[user]:\n",
    "            newpagerank[user] += pagerank[connection]/len(connections[connection])\n",
    "    pagerank = newpagerank\n",
    "\n",
    "\n",
    "prs = sorted(pagerank.iteritems(), reverse=True, key=lambda (k,v): v)\n",
    "print prs[:10]"
   ]
  },
  {
   "cell_type": "markdown",
   "metadata": {},
   "source": [
    "## and now, with NetworkX !"
   ]
  },
  {
   "cell_type": "code",
   "execution_count": 10,
   "metadata": {
    "collapsed": false
   },
   "outputs": [
    {
     "ename": "NameError",
     "evalue": "name 'userset' is not defined",
     "output_type": "error",
     "traceback": [
      "\u001b[1;31m\u001b[0m",
      "\u001b[1;31mNameError\u001b[0mTraceback (most recent call last)",
      "\u001b[1;32m<ipython-input-10-c352c5396ba2>\u001b[0m in \u001b[0;36m<module>\u001b[1;34m()\u001b[0m\n\u001b[0;32m      8\u001b[0m \u001b[0mremove_me\u001b[0m \u001b[1;33m=\u001b[0m \u001b[1;32mFalse\u001b[0m\u001b[1;33m\u001b[0m\u001b[0m\n\u001b[0;32m      9\u001b[0m \u001b[1;33m\u001b[0m\u001b[0m\n\u001b[1;32m---> 10\u001b[1;33m \u001b[1;32mfor\u001b[0m \u001b[0muser\u001b[0m \u001b[1;32min\u001b[0m \u001b[0muserset\u001b[0m\u001b[1;33m:\u001b[0m\u001b[1;33m\u001b[0m\u001b[0m\n\u001b[0m\u001b[0;32m     11\u001b[0m     \u001b[1;32mif\u001b[0m \u001b[0mremove_me\u001b[0m \u001b[1;33m&\u001b[0m \u001b[1;33m(\u001b[0m\u001b[0muser\u001b[0m\u001b[1;33m==\u001b[0m\u001b[1;34m'your_name'\u001b[0m\u001b[1;33m)\u001b[0m\u001b[1;33m:\u001b[0m \u001b[1;32mcontinue\u001b[0m\u001b[1;33m\u001b[0m\u001b[0m\n\u001b[0;32m     12\u001b[0m     \u001b[0mg\u001b[0m\u001b[1;33m.\u001b[0m\u001b[0madd_node\u001b[0m\u001b[1;33m(\u001b[0m\u001b[0muser\u001b[0m\u001b[1;33m)\u001b[0m\u001b[1;33m\u001b[0m\u001b[0m\n",
      "\u001b[1;31mNameError\u001b[0m: name 'userset' is not defined"
     ]
    }
   ],
   "source": [
    "import networkx as nx\n",
    "import matplotlib.pyplot as plt\n",
    "import matplotlib\n",
    "import math\n",
    "\n",
    "g = nx.Graph()\n",
    "\n",
    "remove_me = False\n",
    "\n",
    "for user in userset:\n",
    "    if remove_me & (user=='your_name'): continue\n",
    "    g.add_node(user)\n",
    " \n",
    "for user in userset:   \n",
    "    if remove_me & (user=='your_name'): continue\n",
    "    nconnec = 0\n",
    "    for connection in connections[user]:\n",
    "        if remove_me & (connection=='your_name'): continue\n",
    "        g.add_edge(user, connection, weight = 1)\n",
    "        nconnec+=1\n",
    "    if remove_me & (nconnec==0):\n",
    "        g.remove_node(user)\n",
    "    \n",
    "        \n",
    "pagerank_nx = nx.pagerank_scipy(g)        \n",
    "        \n",
    "color = [(min(pagerank_nx[n]*30.,1),min(pagerank_nx[n]*30.,1), min(pagerank_nx[n]*30.,1)) for n in pagerank_nx]\n",
    "pos = nx.spring_layout(g,  iterations=100)\n",
    "nx.draw_networkx_edges(g, pos, width=1, alpha=0.4)\n",
    "nx.draw_networkx_nodes(g, pos, node_color=color, node_size=100, alpha=1, linewidths =0.5)\n",
    "#lbls = nx.draw_networkx_labels(g, pos) \n",
    "\n",
    "plt.show()"
   ]
  },
  {
   "cell_type": "code",
   "execution_count": 11,
   "metadata": {
    "collapsed": false
   },
   "outputs": [
    {
     "ename": "SyntaxError",
     "evalue": "invalid syntax (<ipython-input-11-2307cd4a0bfe>, line 2)",
     "output_type": "error",
     "traceback": [
      "\u001b[1;36m  File \u001b[1;32m\"<ipython-input-11-2307cd4a0bfe>\"\u001b[1;36m, line \u001b[1;32m2\u001b[0m\n\u001b[1;33m    sorted_pr = sorted(pagerank_nx.iteritems(), reverse=True, key=lambda (k,v): v)\u001b[0m\n\u001b[1;37m                                                                         ^\u001b[0m\n\u001b[1;31mSyntaxError\u001b[0m\u001b[1;31m:\u001b[0m invalid syntax\n"
     ]
    }
   ],
   "source": [
    "# checks whether we have the same, or similar, pageranks\n",
    "sorted_pr = sorted(pagerank_nx.iteritems(), reverse=True, key=lambda (k,v): v)\n",
    "print sorted_pr[:10]"
   ]
  },
  {
   "cell_type": "markdown",
   "metadata": {},
   "source": [
    "A few stats about your network:"
   ]
  },
  {
   "cell_type": "code",
   "execution_count": 12,
   "metadata": {
    "collapsed": false
   },
   "outputs": [
    {
     "ename": "SyntaxError",
     "evalue": "invalid syntax (<ipython-input-12-4879f033f660>, line 2)",
     "output_type": "error",
     "traceback": [
      "\u001b[1;36m  File \u001b[1;32m\"<ipython-input-12-4879f033f660>\"\u001b[1;36m, line \u001b[1;32m2\u001b[0m\n\u001b[1;33m    print 'my degree is: ', g.degree('your_name'), '\\n'\u001b[0m\n\u001b[1;37m                         ^\u001b[0m\n\u001b[1;31mSyntaxError\u001b[0m\u001b[1;31m:\u001b[0m invalid syntax\n"
     ]
    }
   ],
   "source": [
    "# your number of connection\n",
    "print 'my degree is: ', g.degree('your_name'), '\\n'\n",
    "\n",
    "# diameter = maximum nb of edges between 2 nodes = always 2 in this case\n",
    "print 'the graph diameter is: ',nx.diameter(g), '\\n'\n",
    "\n",
    "#center : surprising ?\n",
    "print 'the center is: ',nx.center(g), '\\n'\n",
    "\n",
    "# number  of clique communities  of 5 nodes\n",
    "print 'there are ', len(list(nx.k_clique_communities(g, 5))),'clique communities\\n'\n",
    "\n",
    "\n",
    "# most influential ?\n",
    "print 'degree: ', g.degree(sorted_pr[2]),'\\n'\n",
    "\n",
    "print 'shortest path between Hanspeter and a friend', nx.shortest_path(g,source='hanspeter_pfister',target='etienne_corteel'),'\\n'\n",
    "\n"
   ]
  },
  {
   "cell_type": "code",
   "execution_count": null,
   "metadata": {
    "collapsed": true
   },
   "outputs": [],
   "source": []
  }
 ],
 "metadata": {
  "anaconda-cloud": {},
  "kernelspec": {
   "display_name": "Python [Root]",
   "language": "python",
   "name": "Python [Root]"
  },
  "language_info": {
   "codemirror_mode": {
    "name": "ipython",
    "version": 3
   },
   "file_extension": ".py",
   "mimetype": "text/x-python",
   "name": "python",
   "nbconvert_exporter": "python",
   "pygments_lexer": "ipython3",
   "version": "3.5.2"
  }
 },
 "nbformat": 4,
 "nbformat_minor": 0
}
